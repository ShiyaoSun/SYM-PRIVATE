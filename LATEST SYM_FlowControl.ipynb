{
 "cells": [
  {
   "cell_type": "markdown",
   "metadata": {},
   "source": [
    "# Flow Control and Measurement\n",
    "1.\tDo not use a numerical or iterative solution when an analytical solution is easily available.\n",
    "2.\tWhenever a function has the potential to be used multiple times, create a function call that includes the parameters that could potentially change.\n",
    "3.\tDo not break dependency. That means that if I change an input parameter at the top of your notebook, that I should get the correct answers for the new parameter for all related calculations in the notebook.\n",
    "4.\tAlways use dimensions (units). All calculations involving physical units must include those units.\n",
    "5.\tDocument your design process with comments.\n",
    "6.  Do not redefine your variables in subsequent problems. This loses valulable digits of precision on your numbers and can cause a lot of trouble and frustration.\n",
    "\n",
    "\n",
    "## A brief Design Challenge guide\n",
    "1.  Read the Problem statement in its entirety before beginning. If you don't immediately know what to do, read it again, thoroughly. If you are getting stuck, read it a third time. If you have a good understanding of what the problem is asking and are still having trouble, TAs can help through email or office hours.\n",
    "2.  If you decide to email a TA, make sure the other two are CC'ed. This minimizes the time you will have to wait until one responds.\n",
    "3.  When in doubt, Kernal -> Restart & Run All\n",
    "4.  Play around! Print arrays, test inputs, and ask yourself if your answers are reasonable. Should flow have units of km*mg/s?\n",
    "5.  Make sure to review convention and syntax standards, which can be found here: \n",
    "    * [Standards Page](https://github.com/AguaClara/aide_design/wiki/Standards) for naming standards.\n",
    "    * [Variable Naming Guide](https://github.com/AguaClara/aide_design/wiki/Variable-Naming) for creating variable names. "
   ]
  },
  {
   "cell_type": "markdown",
   "metadata": {},
   "source": [
    "<div class=\"alert alert-block alert-danger\">\n",
    "\n",
    "Before you begin this assignment, you must download the lastest version of aide_design. Follow the instructions on the 4540 Wiki, step 4 at the bottom of the [Anaconda](https://confluence.cornell.edu/display/cee4540/Anaconda) subpage. \n",
    "\n"
   ]
  },
  {
   "cell_type": "code",
   "execution_count": 1,
   "metadata": {
    "collapsed": true
   },
   "outputs": [],
   "source": [
    "#Here we import all of the packages that we will be using for this design challenge\n",
    "\n",
    "#import math\n",
    "\n",
    "#from scipy import constants, interpolate\n",
    "\n",
    "import numpy as np\n",
    "\n",
    "#import pandas as pd\n",
    "\n",
    "import matplotlib.pyplot as plt\n",
    "\n",
    "from aide_design import physchem as pc\n",
    "\n",
    "from aide_design import expert_inputs as exp\n",
    "\n",
    "from aide_design import utility as ut\n",
    "\n",
    "from aide_design.units import unit_registry as u\n",
    "\n",
    "from aide_design.unit_process_design.prefab import lfom_prefab_functional as lfom"
   ]
  },
  {
   "cell_type": "markdown",
   "metadata": {},
   "source": [
    "# Vertical orifice equation\n",
    "\n",
    "### 1)\n",
    "Find the vena contract (VC) coefficient ratio for an orifice in the expert_inputs and print the result in a sentence. Please display 2 significant figures."
   ]
  },
  {
   "cell_type": "code",
   "execution_count": 2,
   "metadata": {},
   "outputs": [
    {
     "name": "stdout",
     "output_type": "stream",
     "text": [
      "The vena contract (VC) coefficient ratio is 0.63\n"
     ]
    }
   ],
   "source": [
    "RatioVCOrifice = 0.63\n",
    "print (\"The vena contract (VC) coefficient ratio is \" + ut.sig(RatioVCOrifice,2))"
   ]
  },
  {
   "cell_type": "markdown",
   "metadata": {},
   "source": [
    "### 2)\n",
    "The simple orifice equation $Q = {\\Pi _{vc}}{A_{or}}\\sqrt {2g\\Delta h}$  that we normally use is not applicable for vertically oriented orifices that are partially or barely submerged. The [USGS published a great solution](https://il.water.usgs.gov/proj/feq/fequtl98.i2h/4_7aupdate.html) for flow through partially submerged vertically oriented orifices. AguaClara uses a general solution for a vertically oriented orifice, which is available in the physchem file as `pc.flow_orifice_vert`. That function handles vertically oriented orifices even if they are only partially submerged. \n",
    "\n",
    "The vertical orifice equation is based on the concept that the velocity through the orifice at any point is equal to $\\sqrt{2gh}$, where h is the local depth of submergence. The total flow can be obtained by integration of that velocity over the submerged area of the orifice.\n",
    "\n",
    "For this question, you will create a well formatted graph with two curves to display flow rate through a 5 cm diameter orifice oriented **vertically and horizontally**. \n",
    "\n",
    "We want to be able to describe the height of the water in the orifice as relative to the orifice diameter size. The relationship between velocity and orifice diameter is true for orifices of any size, so it is valuable to create a nondimensional model that can be understood for all diameters. The flow rate that you will use for this question is as a function of the normalized depth of water from 1 diameter below the center of the orifice to 2 diameters above the center of the orifice. \n",
    "\n",
    "The steps for making the graph are as follows: \n",
    "\n",
    "  - Use `np.linspace` to generate an array of 100 dimensionless water surface elevations. The surface elevations should be normalized (also referred to as nondimensionalized) by the diameter of the orifice, and should range from -1 to 2 orifice diameters. \n",
    "  - Create a second array for water elevation (with units) by multiplying the normalized water elevation array by the orifice diameter. \n",
    "  - Create two arrays of flow rates through the orifice: one for the horizontal orifice orientation and one for the vertical orifice orientation. Use the two orifice equations `pc.flow_orifice` and `pc.flow_orifice_vert` in the physchem file, with orifice diamater and the dimensional water elevation array you created as inputs.  \n",
    "  - Plot the curves for vertical and horizontal orifice flow in L/s as a funtion of the normalized height of water.\n",
    "  - Label the graph with flow rate in L/s as the y-axis and with normalized water elevation above the center of the orifice as the x-axis.\n",
    "  - Include a legend for the two curves."
   ]
  },
  {
   "cell_type": "markdown",
   "metadata": {},
   "source": [
    "<div class=\"alert alert-block alert-warning\">\n",
    "\n",
    "Your x axis label should be a little more descriptive.\n",
    "\n",
    "Your y axis values are not L/s. If you force flowrate_horiz and your other flow rate variable to be L/s within the plot call, you should get the right values. "
   ]
  },
  {
   "cell_type": "code",
   "execution_count": 3,
   "metadata": {
    "scrolled": false
   },
   "outputs": [
    {
     "data": {
      "image/png": "[encoded data removed]",
      "text/plain": [
       "<matplotlib.figure.Figure at 0x112600a90>"
      ]
     },
     "metadata": {},
     "output_type": "display_data"
    }
   ],
   "source": [
    "orifice_diam = 5*u.cm\n",
    "\n",
    "# create elevation array\n",
    "surface_elevation = np.linspace(-1,2,100)\n",
    "water_elevation = surface_elevation*orifice_diam\n",
    "\n",
    "# create orientation array\n",
    "# Divide diameter and elevation by 100 because the functions take inputs in meters\n",
    "flow_horizontal = pc.flow_orifice(orifice_diam, water_elevation, RatioVCOrifice)\n",
    "flow_vertical = pc.flow_orifice_vert(orifice_diam, water_elevation, RatioVCOrifice)\n",
    "\n",
    "# create plot\n",
    "plt.plot(surface_elevation,flow_horizontal.to(u.L/u.s),'-',surface_elevation\n",
    "         ,flow_vertical.to(u.L/u.s),'-')\n",
    "\n",
    "# create legend & flow rate\n",
    "plt.legend(['Horizontal Orientation', 'Vertical Orientation'], loc='best')\n",
    "plt.xlabel('Normalized Heigh of water (cm)', fontsize=20)\n",
    "plt.ylabel('FlowRate (L/s)', fontsize=20)\n",
    "\n",
    "plt.show()"
   ]
  },
  {
   "cell_type": "markdown",
   "metadata": {},
   "source": [
    "### 3)\n",
    "Write a paragraph about what the graph means by explaining the following two items:\n",
    "  - Explain why the vertical orifice equation predicts more flow when the water level is below the center of the orifice and predicts less flow when the water level is above the center of the orifice. It might help to draw a picture of what the equations are describing to understand what is happening here! \n",
    "  - Explain how the horizontal orifice equation function from `physchem.py` predicts the flow rate for submergence depths that are negative. You will need to find the function and look at the code. "
   ]
  },
  {
   "cell_type": "markdown",
   "metadata": {
    "collapsed": true
   },
   "source": [
    "<div class=\"alert alert-block alert-success\">\n",
    "\n",
    "Good!\n"
   ]
  },
  {
   "cell_type": "code",
   "execution_count": 4,
   "metadata": {},
   "outputs": [
    {
     "data": {
      "image/png": "[encoded data removed]",
      "text/plain": [
       "<matplotlib.figure.Figure at 0x112114518>"
      ]
     },
     "metadata": {},
     "output_type": "display_data"
    }
   ],
   "source": [
    "# Create a FlowRate vs. Water Elevation\n",
    "plt.plot(water_elevation,flow_horizontal.to(u.L/u.s),'-',water_elevation\n",
    "         ,flow_vertical.to(u.L/u.s),'-')\n",
    "plt.legend(['Horizontal Orientation', 'Vertical Orientation'], loc='best')\n",
    "plt.xlabel('Water Elevation (cm)', fontsize=20)\n",
    "plt.ylabel('FlowRate (L/s)', fontsize=20)\n",
    "plt.show()"
   ]
  },
  {
   "cell_type": "markdown",
   "metadata": {},
   "source": [
    "1. If we look at the vertical orifice equation from the physchem.py, we \n",
    "2. The function checks if the submergence depths are negative. If the submergence depths are smaller than 0, the function would simply return 0 for as flow rate."
   ]
  },
  {
   "cell_type": "markdown",
   "metadata": {},
   "source": [
    "# Linear Flow Orifice Meter (LFOM)\n",
    "A linear flow orifice meter is used in AguaClara plants to measure the plant flow rate and to provide  a linear relationship between flow rate and the depth of water in the entrance tank. Below, we use the LFOM code to obtain a design for a linear flow orifice meter. Your task will be to test this design using the orifice equations to see if it is correct. "
   ]
  },
  {
   "cell_type": "code",
   "execution_count": 5,
   "metadata": {},
   "outputs": [
    {
     "name": "stdout",
     "output_type": "stream",
     "text": [
      "The nominal diameter of the LFOM is 10 in.\n",
      "The orifice diameter is 15 mm.\n",
      "The number of orifices in each row is\n",
      "[ 43.  43.  14.  15.  13.  12.  11.  11.   9.  10.]\n",
      "The height of the center of the orifices measured from theLFOM datum, the bottom of the bottom row of orifices, is\n",
      "[  0.75   2.75   4.75   6.75   8.75  10.75  12.75  14.75  16.75  18.75] centimeter\n"
     ]
    }
   ],
   "source": [
    "# target flow rate that the LFOM should deliver at maximum water height\n",
    "Flow = 31*u.L/u.s\n",
    "\n",
    "# height range for the LFOM measured from the bottom of the first row of orifices.\n",
    "HeadlossLfom = 20*u.cm\n",
    "\n",
    "# Safety factor that insures that the LFOM pipe doesn't completely fill with water at the \n",
    "# bottom row of orifices. \n",
    "# This factor is the ratio of the pipe area to the area required to contain all of \n",
    "# the falling water. \n",
    "RatioLfomSafety = 1.2\n",
    "\n",
    "# We will use a pipe with a relatively low SDR so that it has a thick wall to \n",
    "# handle the many perforations.\n",
    "SdrLfom = 26\n",
    "\n",
    "# The DrillBits array is an array with the available drill bits (or hole saws) \n",
    "# that can be used to create the orificies. \n",
    "# Here we assume that we only have a very limited set of drill bits.\n",
    "DrillBits = np.arange(5, 25, 5)*u.mm\n",
    "\n",
    "# Here we use the LFOM functions to get the key parameters that define an LFOM.\n",
    "NdLfom = lfom.nom_diam_lfom_pipe(Flow, HeadlossLfom, RatioLfomSafety, SdrLfom)\n",
    "OrificeDiam = lfom.orifice_diameter(Flow, HeadlossLfom, DrillBits)\n",
    "LfomOrificeArray = lfom.n_lfom_orifices(Flow, HeadlossLfom, DrillBits, SdrLfom)\n",
    "HeightLfomOrifices = lfom.height_lfom_orifices(Flow, HeadlossLfom, DrillBits)\n",
    "\n",
    "print('The nominal diameter of the LFOM is ' + ut.sig(NdLfom,1)+'.')\n",
    "print('The orifice diameter is ' + ut.sig(OrificeDiam,2)+'.')\n",
    "print('The number of orifices in each row is')\n",
    "print(LfomOrificeArray)\n",
    "print('The height of the center of the orifices measured from the\\\n",
    "LFOM datum, the bottom of the bottom row of orifices, is')\n",
    "print(HeightLfomOrifices.to(u.cm))\n"
   ]
  },
  {
   "cell_type": "markdown",
   "metadata": {},
   "source": [
    "### 4)\n",
    "**Create a function** that calculates the flow rate through the LFOM as a function of only water elevation using the vertical orifice function. Use the arrays for LFOM key parameters, given above as `NdLfom`, `OrificeDiam`, `LfomOrificeArray`, and `HeightLfomOrifices`. \n",
    "\n",
    "- Create an array for depth of submergence for each row of orifices at a given a height of water in the LFOM. This array is dependent on the water elevation (which should be your function input) and the height of the LFOM orifices (which is from the LFOM key parameters). Use this submergence depth array as the \"height\" input to your vertical orifice function. The array should be created within your function.\n",
    "\n",
    "- To calculate the flow rate through the LFOM, multiply the calculated flow for each row of orifices by the number of orifices in that row (`LfromOrificeArray`) to get an array of flows through each row of orifices. Note: the vertical orifice function will report zero flow for any orifices that aren't submerged, so you can send the whole array of depth of submergence for each row of orifices.\n",
    "\n",
    "- At the end of your function, sum flows from each row of the LFOM and return that value with the correct units.\n",
    "\n",
    "- Add a comment under the function definition to explain what the function does (see any of the aide design files for examples of descriptive comments). "
   ]
  },
  {
   "cell_type": "markdown",
   "metadata": {
    "collapsed": true
   },
   "source": [
    "<div class=\"alert alert-block alert-success\">\n",
    "\n",
    "Good!"
   ]
  },
  {
   "cell_type": "code",
   "execution_count": 6,
   "metadata": {
    "collapsed": true
   },
   "outputs": [],
   "source": [
    "def sum_flowrate(water_elevation):\n",
    "    # Return the flow rate \n",
    "    \n",
    "    # Create array for depth of submergence for each row\n",
    "    depth_submergence = water_elevation - HeightLfomOrifices\n",
    "    \n",
    "    #calculate the flow rate through the LFOM\n",
    "    flow_rate_LFOM = pc.flow_orifice_vert(OrificeDiam, depth_submergence, RatioVCOrifice)\n",
    "    \n",
    "    # multiply flow for each row of orifices by the number of orifices in that row \n",
    "    flow_rate_LFOM_total = LfomOrificeArray * flow_rate_LFOM \n",
    "        \n",
    "    return (sum(flow_rate_LFOM_total).to(u.L/u.s))"
   ]
  },
  {
   "cell_type": "markdown",
   "metadata": {},
   "source": [
    "### 5)\n",
    "Calculate the total flow through the LFOM using the vertical orifice equation for the case when the water level is at the maximum water level for the LFOM, `HeadlossLfom`. You are checking to make sure that the LFOM produces the correct target flow (given as `Flow`) at the maximum height. Does it? "
   ]
  },
  {
   "cell_type": "markdown",
   "metadata": {},
   "source": [
    "<div class=\"alert alert-block alert-success\">\n",
    "\n",
    "Good!"
   ]
  },
  {
   "cell_type": "code",
   "execution_count": 7,
   "metadata": {},
   "outputs": [
    {
     "name": "stdout",
     "output_type": "stream",
     "text": [
      "The total flow rate is 31.5 l/s.\n",
      "The target flow rate that the LFOM should deliver at maximum water height is 31.5 l/s,so it does meet the requirement\n"
     ]
    }
   ],
   "source": [
    "total = sum_flowrate(HeadlossLfom)\n",
    "print('The total flow rate is ' + ut.sig(total.to(u.L/u.s),3)+ '.')\n",
    "print ('The target flow rate that the LFOM should deliver at maximum water height is 31.5 l/s,\\\n",
    "so it does meet the requirement')"
   ]
  },
  {
   "cell_type": "markdown",
   "metadata": {},
   "source": [
    "### 6)\n",
    "We want to compare the actual flow rate through the LFOM to the expected flow rate through the elevation as a function of water depth. Create a graph of the normalized actual and expected flow rates, using the following steps:\n",
    "\n",
    "- Create an 100-unit long array of water depths using `np.linspace`. Note: the expected flow rate at elevation zero is zero, which makes the normalized flow rate undefined for zero elevation. An undefined normalized flow will not run and Python will report an error. You can solve this by beginning your water depth array at a very small (nonzero) elevation. You can end your water depth array at the maximum water depth. Recall that an array of elevations should have units of length.\n",
    "- Create an array of normalized actual flow rates at each water depth; use the function you created in Problem 4 and a `for` loop (the function you created in Problem 4 probably can't handle an array of depths as input, so you need the `for` loop to cycle through each depth value to make your array of flows).     \n",
    "    - Start by creating an empty array for actual flow rates that is the same shape as the 100-unit water depth array you just created.\n",
    "    - In your `for` loop, normalize the actual flow rates by using the following relationship: normalized actual flow rate = (actual flow rate)/[(water depth)/(maximum water level * target flow rate)]\n",
    "    \n",
    "- Plot a straight horizontal line at y = 1, which is your normalized expected flow value if the LFOM were perfect."
   ]
  },
  {
   "cell_type": "markdown",
   "metadata": {},
   "source": [
    "<div class=\"alert alert-block alert-success\">\n",
    "\n",
    "Fantastic! Perhaps some captialization in your axis labels?"
   ]
  },
  {
   "cell_type": "code",
   "execution_count": 8,
   "metadata": {},
   "outputs": [
    {
     "data": {
      "image/png": "[encoded data removed]",
      "text/plain": [
       "<matplotlib.figure.Figure at 0x117b3ee10>"
      ]
     },
     "metadata": {},
     "output_type": "display_data"
    }
   ],
   "source": [
    "# Create an 100-unit long array\n",
    "water_depth = np.linspace(0.01,20,100)*u.cm\n",
    "\n",
    "# Create an empty array\n",
    "actual_flow_rates = np.zeros(100)*(u.L/u.s)\n",
    "for i in range(0,100):\n",
    "    actual_flow_rates[i] = sum_flowrate(water_depth[i])\n",
    "\n",
    "n_actual_flow_rates = np.zeros(100)\n",
    "normalized_actual_flow_rate = np.zeros(100)\n",
    "for i in range(0,100):\n",
    "    normalized_actual_flow_rate[i]= 1\n",
    "    n_actual_flow_rates[i]=((actual_flow_rates[i]/water_depth[i])*(HeadlossLfom / Flow))\n",
    "\n",
    "# Create the graph\n",
    "plt.plot(water_depth,n_actual_flow_rates,'r-',linewidth = 2)\n",
    "plt.plot(water_depth,normalized_actual_flow_rate,'b-',linewidth = 2)\n",
    "plt.xlabel('Water Depth(cm)',fontsize=25)\n",
    "plt.ylabel('Normalized FlowRate',fontsize=25)\n",
    "plt.show()"
   ]
  },
  {
   "cell_type": "markdown",
   "metadata": {},
   "source": [
    "### 7)\n",
    "Play with the value for the plant flow rate, `Flow`, at the top of the cell above Problem 4 by trying a bunch of different flows over the range 1 to 100 L/s. Comment on something that you notice and that you think could be improved in the design of the LFOM. "
   ]
  },
  {
   "cell_type": "markdown",
   "metadata": {},
   "source": [
    "### Comments:\n",
    "If the target flow rate is low, the system is able to reach the target flowrate starting at a shallow water depth. However, if the target flow rate is high, the water needs to be fairly deep to actually reaches the target flow rate. In addition, the performace of the system is more stable if the target flow rate is low."
   ]
  },
  {
   "cell_type": "markdown",
   "metadata": {},
   "source": [
    "### 8)\n",
    "Describe at least two failure modes where the design produces very inaccurate flow measurements. "
   ]
  },
  {
   "cell_type": "markdown",
   "metadata": {},
   "source": [
    "### Insert Failures Here:\n"
   ]
  },
  {
   "cell_type": "markdown",
   "metadata": {},
   "source": [
    "### 9)\n",
    "Explain why all LFOMs perform poorly when the water depth is in the first row of orifices."
   ]
  },
  {
   "cell_type": "markdown",
   "metadata": {},
   "source": [
    "### Explanation: "
   ]
  },
  {
   "cell_type": "markdown",
   "metadata": {},
   "source": [
    "### 10)\n",
    "Explain why all of the bottom several rows have the same number of orifices for flows about 30 L/s. (Hint: What constrains the maximum number of orifices that can be in a row?)"
   ]
  },
  {
   "cell_type": "markdown",
   "metadata": {},
   "source": [
    "### Explanation:"
   ]
  },
  {
   "cell_type": "markdown",
   "metadata": {},
   "source": [
    "# Laminar Flow Based Flow Controller\n",
    "\n",
    "You will design (by completing the following questions) a laminar flow controller for chlorine feed for a plant design flow rate of 50 L/s. \n",
    "\n",
    "For the following steps do NOT use the aide_design.cdc code. Instead, create the functions that you need to solve this problem. At the end, we will compare your solution to the aide_design.cdc solution.\n",
    "\n",
    "You may assume that the chlorine stock solution kinematic viscosity is approximately the same as water. The dose controller is to have a maximum head loss of 20 cm through the dosing tubes. We will start with commercially available liquid bleach (equivalent to 51.4 gm/L of chlorine gas), which we will use in our chemical stock tanks without dilution. Our goal is to provide a constant chlorine dose of 2 mg/L to the water entering the storage tank. We will be following the guidelines given below. \n",
    "\n",
    "- Calculate the maximum fow rate through each available dosing tube diameter that keeps error due to minor losses below 10%. \n",
    "\n",
    "- Calculate the total chemical flow rate that would be required by the treatment system for the maximum chemical dose and the maximum allowable stock concentration. \n",
    "\n",
    "- Calculate the number of dosing tubes required if the tubes flow at maximum capacity (round up). \n",
    "\n",
    "- Calculate the length of the dosing tubes that correspond to each available tube diameter. \n",
    "\n",
    "- Select the longest dosing tube that is shorter than the maximum tube length allowable based on geometric constraints. \n",
    "\n",
    "- Select the dosing tube diameter, flow rate, and stock concentration corresponding to the selected tube length. "
   ]
  },
  {
   "cell_type": "code",
   "execution_count": 9,
   "metadata": {
    "collapsed": true
   },
   "outputs": [],
   "source": [
    "FlowPlant = 50*u.L/u.s\n",
    "T = u.Quantity(20,u.degC)\n",
    "NuBleach = pc.viscosity_kinematic(T)\n",
    "HeadlossDosingTubeMax = 20*(u.cm)\n",
    "StockCl2 = 51.4*(u.gram/u.L)\n",
    "DoseCl2 = 2*(u.mg/u.L)\n",
    "RatioError = 0.1\n",
    "KMinor = 2"
   ]
  },
  {
   "cell_type": "markdown",
   "metadata": {
    "collapsed": true
   },
   "source": [
    "### 11)\n",
    "At the given water treatment plant design flow rate, what is the required flow of bleach (the chlorine stock solution)?"
   ]
  },
  {
   "cell_type": "markdown",
   "metadata": {},
   "source": [
    "<div class=\"alert alert-block alert-success\">\n",
    "\n",
    "Good!"
   ]
  },
  {
   "cell_type": "code",
   "execution_count": 10,
   "metadata": {},
   "outputs": [
    {
     "name": "stdout",
     "output_type": "stream",
     "text": [
      "0.0019456009961477101 liter / second\n"
     ]
    }
   ],
   "source": [
    "bleach_rate=DoseCl2*FlowPlant/(StockCl2-DoseCl2)\n",
    "print(bleach_rate.to(u.L/u.s))"
   ]
  },
  {
   "cell_type": "markdown",
   "metadata": {},
   "source": [
    "### 12)\n",
    "How many liters of liquid bleach are required in one day? (you can simply change the units on the flow rate!)"
   ]
  },
  {
   "cell_type": "markdown",
   "metadata": {},
   "source": [
    "<div class=\"alert alert-block alert-success\">\n",
    "\n",
    "Good!"
   ]
  },
  {
   "cell_type": "code",
   "execution_count": 11,
   "metadata": {},
   "outputs": [
    {
     "name": "stdout",
     "output_type": "stream",
     "text": [
      "168.09992606716216 liter / day\n"
     ]
    }
   ],
   "source": [
    "print(bleach_rate.to(u.L/u.day))"
   ]
  },
  {
   "cell_type": "markdown",
   "metadata": {},
   "source": [
    "### 13)\n",
    "Our next big goal is to choose a tubing size for the dosing tube (or tubes). This requires multiple steps. Begin by first creating a numpy array of tubing sizes between 1/16\"  and 5/16\" with a 1/16\" interval. Your list should contain 5 elements. Does `np.linspace` work here? What about `np.arange`?"
   ]
  },
  {
   "cell_type": "markdown",
   "metadata": {},
   "source": [
    "<div class=\"alert alert-block alert-success\">\n",
    "\n",
    "Good! But you can simply multiply the first line by u.inch instead of redefining `tube_size`"
   ]
  },
  {
   "cell_type": "code",
   "execution_count": 12,
   "metadata": {},
   "outputs": [
    {
     "name": "stdout",
     "output_type": "stream",
     "text": [
      "[ 0.0625  0.125   0.1875  0.25    0.3125] inch\n"
     ]
    }
   ],
   "source": [
    "tube_size=np.arange(1/16,6/16,1/16)\n",
    "tube_size=tube_size*u.inch\n",
    "print(tube_size)"
   ]
  },
  {
   "cell_type": "markdown",
   "metadata": {},
   "source": [
    "### 14)\n",
    "What is the maximum average velocity in a dosing tube based on the constraint that minor losses must be small? This means that the minor losses account for `RatioError` fraction of the total losses (10% when `RatioError` is 0.1). Note that this velocity is independent of the tube diameter."
   ]
  },
  {
   "cell_type": "markdown",
   "metadata": {},
   "source": [
    "<div class=\"alert alert-block alert-success\">\n",
    "\n",
    "Good! In the future, you can use `pc.gravity` instead of creating another g variable."
   ]
  },
  {
   "cell_type": "code",
   "execution_count": 13,
   "metadata": {},
   "outputs": [
    {
     "name": "stdout",
     "output_type": "stream",
     "text": [
      "0.4427188724235731 meter / second\n"
     ]
    }
   ],
   "source": [
    "g=u.Quantity(9.8,u.m/u.s**2)\n",
    "velocity_max=(HeadlossDosingTubeMax*2*g*RatioError/KMinor)**0.5\n",
    "print(velocity_max.to(u.m/u.s))\n"
   ]
  },
  {
   "cell_type": "markdown",
   "metadata": {},
   "source": [
    "### 15)\n",
    "What is the head loss due to minor losses in the tube when the tube is flowing at maximum capacity? Solve for this value algebraically by substituting your equation for the velocity in the tube into the minor loss equation and then calculate the value."
   ]
  },
  {
   "cell_type": "markdown",
   "metadata": {},
   "source": [
    "<div class=\"alert alert-block alert-success\">\n",
    "\n",
    "Good~"
   ]
  },
  {
   "cell_type": "code",
   "execution_count": 14,
   "metadata": {},
   "outputs": [
    {
     "name": "stdout",
     "output_type": "stream",
     "text": [
      "2.0 centimeter\n"
     ]
    }
   ],
   "source": [
    "minor_loss=KMinor*velocity_max**2/(2*g)\n",
    "print(minor_loss)"
   ]
  },
  {
   "cell_type": "markdown",
   "metadata": {},
   "source": [
    "### 16)\n",
    "Create an array of the maximum flow rates corresponding to the array of tubing diameters. The flow rates must meet the error constraint.\n",
    "$$Q_{Max} = \\frac{\\pi D^2}{4}\\sqrt{\\frac{2h_{L}g \\Pi_{error}}{\\sum K_{e}}}$$\n",
    "\n",
    "* First, create a function that uses diameter and maximum headloss as inputs to return flow rate. Note that `pc.area_circle(diam)` returns a circle's area given its diameter, and you have already calculated the maximum average velocity in Problem 14.\n",
    "* Create the array of maximum flow rates using the array of tubing diamaters and the maximum headloss through the dosing tubes. "
   ]
  },
  {
   "cell_type": "markdown",
   "metadata": {},
   "source": [
    "<div class=\"alert alert-block alert-success\">\n",
    "\n",
    "Great!"
   ]
  },
  {
   "cell_type": "code",
   "execution_count": 15,
   "metadata": {},
   "outputs": [
    {
     "name": "stdout",
     "output_type": "stream",
     "text": [
      "[<Quantity(0.0008762850148227946, 'liter / second')>, <Quantity(0.003505140059291178, 'liter / second')>, <Quantity(0.007886565133405151, 'liter / second')>, <Quantity(0.014020560237164713, 'liter / second')>, <Quantity(0.02190712537056987, 'liter / second')>]\n"
     ]
    }
   ],
   "source": [
    "def flow_rate_max(diam,headloss_max):\n",
    "    return((pc.area_circle(diam)*velocity_max).to(u.L/u.s))\n",
    "flow_rate_array=[]\n",
    "for i in range(0,len(tube_size)):\n",
    "    \n",
    "    flow_rate_array.append(flow_rate_max(tube_size[i],HeadlossDosingTubeMax))\n",
    "\n",
    "print(flow_rate_array)"
   ]
  },
  {
   "cell_type": "markdown",
   "metadata": {},
   "source": [
    "### 17) \n",
    "Find the minimum number of tubes for each of the available tube diameters that would be required to deliver the maximum flow of bleach."
   ]
  },
  {
   "cell_type": "markdown",
   "metadata": {},
   "source": [
    "<div class=\"alert alert-block alert-warning\">\n",
    "\n",
    "instead of rounding, you should use np.ceil(). Rounidng down is dangerous in engineering!"
   ]
  },
  {
   "cell_type": "code",
   "execution_count": 16,
   "metadata": {},
   "outputs": [
    {
     "name": "stdout",
     "output_type": "stream",
     "text": [
      "[ 2.  1.  0.  0.  0.]\n"
     ]
    }
   ],
   "source": [
    "tube_number=[]\n",
    "for i in range(0,len(tube_size)):\n",
    "    \n",
    "    tube_number.append(bleach_rate.to(u.m**3/u.s)/(velocity_max.to(u.m/u.s)*pc.area_circle(tube_size[i])))\n",
    "tube_number=np.round(tube_number)                      \n",
    "print(tube_number)"
   ]
  },
  {
   "cell_type": "markdown",
   "metadata": {},
   "source": [
    "### 18) \n",
    "Create an array of the maximum flow rate per tube for each of the available tubing diameters, given the number of tubes that would be used. This will be the flow through each dosing tube at the maximum flow of bleach."
   ]
  },
  {
   "cell_type": "markdown",
   "metadata": {},
   "source": [
    "<div class=\"alert alert-block alert-success\">\n",
    "\n",
    "Rounding down in the previous problem is perhaps why this does not work! "
   ]
  },
  {
   "cell_type": "code",
   "execution_count": 17,
   "metadata": {},
   "outputs": [
    {
     "name": "stdout",
     "output_type": "stream",
     "text": [
      "[<Quantity(0.972800498073855, 'liter * milligram / gram / second')>, <Quantity(1.94560099614771, 'liter * milligram / gram / second')>, <Quantity(inf, 'liter * milligram / gram / second')>, <Quantity(inf, 'liter * milligram / gram / second')>, <Quantity(inf, 'liter * milligram / gram / second')>]\n"
     ]
    },
    {
     "name": "stderr",
     "output_type": "stream",
     "text": [
      "/Users/shiyaosun/anaconda/lib/python3.6/site-packages/pint/quantity.py:780: RuntimeWarning: divide by zero encountered in double_scalars\n",
      "  magnitude = magnitude_op(self._magnitude, other_magnitude)\n"
     ]
    }
   ],
   "source": [
    "flow_per_tube=[]\n",
    "for i in range(0,len(tube_size)):\n",
    "    flow_per_tube.append(bleach_rate/tube_number[i])\n",
    "print(flow_per_tube)"
   ]
  },
  {
   "cell_type": "markdown",
   "metadata": {},
   "source": [
    "### 19)\n",
    "We now know the target flow in the dosing tubes, the diameter of the tubes, and the target head loss through the tubes. Thus, we can solve for the length of the tube that will deliver that target flow.\n",
    "Write a function to find the length of each tube that could handle the entire flow. Your function should use the following equation:\n",
    "$$L = \\frac{g h_{L}\\pi D^4}{128 \\nu Q_{Max}}-\\frac{Q_{Max}}{16 \\pi \\nu}\\sum K_{e}$$\n",
    "\n",
    "Call your function to return the length of tubing required for each tube size. "
   ]
  },
  {
   "cell_type": "markdown",
   "metadata": {},
   "source": [
    "<div class=\"alert alert-block alert-danger\">\n",
    "\n",
    "A few things. \n",
    "\n",
    "\n",
    "1. Don't copy people's code! You should collaborate, but copy-pasting people code is a violation of academic integrity and  taken very seriously at Cornell. I do not know if your team is the copier or paster, but you must avoid doing this in the future.\n",
    "2.  `pc.gravity` and `np.pi` can be used for gravity and pi, respectively.\n",
    "3. You don't need a for loop. Your function should return the length of tube for any scenario, not this particular one. Therefore you should simply tyupe the equation as it appears and in relation to the variables you place as inputs. \n",
    "4. Your inputs are wrong. Your inputs should be the variables in the equation of the problem statement (headloss, diameter, flow, viscosity, and minor loss coefficient).\n",
    "5. Make sure to name your variables explicity. `tube_size` is too vague. Is it length? Diameter? Area? Volume?\n"
   ]
  },
  {
   "cell_type": "code",
   "execution_count": 18,
   "metadata": {},
   "outputs": [
    {
     "ename": "DimensionalityError",
     "evalue": "Cannot convert from 'centimeter * gram * inch ** 4 * second / liter / milligram' ([length] ** 2 * [time]) to 'liter * milligram / gram / meter ** 2' ([length])",
     "output_type": "error",
     "traceback": [
      "\u001b[0;31m---------------------------------------------------------------------------\u001b[0m",
      "\u001b[0;31mDimensionalityError\u001b[0m                       Traceback (most recent call last)",
      "\u001b[0;32m<ipython-input-18-9b69834bf5cd>\u001b[0m in \u001b[0;36m<module>\u001b[0;34m()\u001b[0m\n\u001b[1;32m      4\u001b[0m         \u001b[0mLength_tube\u001b[0m\u001b[0;34m[\u001b[0m\u001b[0mi\u001b[0m\u001b[0;34m]\u001b[0m\u001b[0;34m=\u001b[0m\u001b[0;34m(\u001b[0m\u001b[0;36m9.8\u001b[0m\u001b[0;34m*\u001b[0m\u001b[0mu\u001b[0m\u001b[0;34m.\u001b[0m\u001b[0mm\u001b[0m\u001b[0;34m**\u001b[0m\u001b[0;36m2\u001b[0m\u001b[0;34m/\u001b[0m\u001b[0mu\u001b[0m\u001b[0;34m.\u001b[0m\u001b[0ms\u001b[0m\u001b[0;34m*\u001b[0m\u001b[0mHeadlossDosingTubeMax\u001b[0m\u001b[0;34m*\u001b[0m\u001b[0;36m3.14159\u001b[0m\u001b[0;34m*\u001b[0m\u001b[0;34m(\u001b[0m\u001b[0;34m(\u001b[0m\u001b[0mtube_size\u001b[0m\u001b[0;34m[\u001b[0m\u001b[0mi\u001b[0m\u001b[0;34m]\u001b[0m\u001b[0;34m)\u001b[0m\u001b[0;34m**\u001b[0m\u001b[0;36m4\u001b[0m\u001b[0;34m)\u001b[0m\u001b[0;34m)\u001b[0m\u001b[0;34m/\u001b[0m\u001b[0;34m(\u001b[0m\u001b[0;36m128\u001b[0m\u001b[0;34m*\u001b[0m\u001b[0mNuBleach\u001b[0m\u001b[0;34m*\u001b[0m\u001b[0mflow_per_tube\u001b[0m\u001b[0;34m[\u001b[0m\u001b[0mi\u001b[0m\u001b[0;34m]\u001b[0m\u001b[0;34m)\u001b[0m\u001b[0;34m-\u001b[0m\u001b[0mflow_per_tube\u001b[0m\u001b[0;34m[\u001b[0m\u001b[0mi\u001b[0m\u001b[0;34m]\u001b[0m\u001b[0;34m*\u001b[0m\u001b[0mKMinor\u001b[0m\u001b[0;34m/\u001b[0m\u001b[0;34m(\u001b[0m\u001b[0;36m16\u001b[0m\u001b[0;34m*\u001b[0m\u001b[0;36m3.14159\u001b[0m\u001b[0;34m*\u001b[0m\u001b[0mNuBleach\u001b[0m\u001b[0;34m)\u001b[0m\u001b[0;34m\u001b[0m\u001b[0m\n\u001b[1;32m      5\u001b[0m     \u001b[0;32mreturn\u001b[0m \u001b[0mLength_tube\u001b[0m\u001b[0;34m\u001b[0m\u001b[0m\n\u001b[0;32m----> 6\u001b[0;31m \u001b[0mLength_tube2\u001b[0m\u001b[0;34m=\u001b[0m\u001b[0mLength_tube\u001b[0m\u001b[0;34m(\u001b[0m\u001b[0mtube_size\u001b[0m\u001b[0;34m,\u001b[0m\u001b[0mflow_per_tube\u001b[0m\u001b[0;34m,\u001b[0m\u001b[0mHeadlossDosingTubeMax\u001b[0m\u001b[0;34m)\u001b[0m\u001b[0;34m\u001b[0m\u001b[0m\n\u001b[0m\u001b[1;32m      7\u001b[0m \u001b[0mLength_tube2\u001b[0m\u001b[0;34m\u001b[0m\u001b[0m\n",
      "\u001b[0;32m<ipython-input-18-9b69834bf5cd>\u001b[0m in \u001b[0;36mLength_tube\u001b[0;34m(tube_size, flow_per_tube, HeadlossDosingTubeMax)\u001b[0m\n\u001b[1;32m      2\u001b[0m     \u001b[0mLength_tube\u001b[0m \u001b[0;34m=\u001b[0m \u001b[0mnp\u001b[0m\u001b[0;34m.\u001b[0m\u001b[0mzeros\u001b[0m\u001b[0;34m(\u001b[0m\u001b[0mlen\u001b[0m\u001b[0;34m(\u001b[0m\u001b[0mtube_size\u001b[0m\u001b[0;34m)\u001b[0m\u001b[0;34m)\u001b[0m\u001b[0;34m*\u001b[0m\u001b[0mu\u001b[0m\u001b[0;34m.\u001b[0m\u001b[0mm\u001b[0m\u001b[0;34m\u001b[0m\u001b[0m\n\u001b[1;32m      3\u001b[0m     \u001b[0;32mfor\u001b[0m \u001b[0mi\u001b[0m \u001b[0;32min\u001b[0m \u001b[0mrange\u001b[0m\u001b[0;34m(\u001b[0m\u001b[0;36m0\u001b[0m\u001b[0;34m,\u001b[0m\u001b[0mlen\u001b[0m\u001b[0;34m(\u001b[0m\u001b[0mtube_size\u001b[0m\u001b[0;34m)\u001b[0m\u001b[0;34m)\u001b[0m\u001b[0;34m:\u001b[0m\u001b[0;34m\u001b[0m\u001b[0m\n\u001b[0;32m----> 4\u001b[0;31m         \u001b[0mLength_tube\u001b[0m\u001b[0;34m[\u001b[0m\u001b[0mi\u001b[0m\u001b[0;34m]\u001b[0m\u001b[0;34m=\u001b[0m\u001b[0;34m(\u001b[0m\u001b[0;36m9.8\u001b[0m\u001b[0;34m*\u001b[0m\u001b[0mu\u001b[0m\u001b[0;34m.\u001b[0m\u001b[0mm\u001b[0m\u001b[0;34m**\u001b[0m\u001b[0;36m2\u001b[0m\u001b[0;34m/\u001b[0m\u001b[0mu\u001b[0m\u001b[0;34m.\u001b[0m\u001b[0ms\u001b[0m\u001b[0;34m*\u001b[0m\u001b[0mHeadlossDosingTubeMax\u001b[0m\u001b[0;34m*\u001b[0m\u001b[0;36m3.14159\u001b[0m\u001b[0;34m*\u001b[0m\u001b[0;34m(\u001b[0m\u001b[0;34m(\u001b[0m\u001b[0mtube_size\u001b[0m\u001b[0;34m[\u001b[0m\u001b[0mi\u001b[0m\u001b[0;34m]\u001b[0m\u001b[0;34m)\u001b[0m\u001b[0;34m**\u001b[0m\u001b[0;36m4\u001b[0m\u001b[0;34m)\u001b[0m\u001b[0;34m)\u001b[0m\u001b[0;34m/\u001b[0m\u001b[0;34m(\u001b[0m\u001b[0;36m128\u001b[0m\u001b[0;34m*\u001b[0m\u001b[0mNuBleach\u001b[0m\u001b[0;34m*\u001b[0m\u001b[0mflow_per_tube\u001b[0m\u001b[0;34m[\u001b[0m\u001b[0mi\u001b[0m\u001b[0;34m]\u001b[0m\u001b[0;34m)\u001b[0m\u001b[0;34m-\u001b[0m\u001b[0mflow_per_tube\u001b[0m\u001b[0;34m[\u001b[0m\u001b[0mi\u001b[0m\u001b[0;34m]\u001b[0m\u001b[0;34m*\u001b[0m\u001b[0mKMinor\u001b[0m\u001b[0;34m/\u001b[0m\u001b[0;34m(\u001b[0m\u001b[0;36m16\u001b[0m\u001b[0;34m*\u001b[0m\u001b[0;36m3.14159\u001b[0m\u001b[0;34m*\u001b[0m\u001b[0mNuBleach\u001b[0m\u001b[0;34m)\u001b[0m\u001b[0;34m\u001b[0m\u001b[0m\n\u001b[0m\u001b[1;32m      5\u001b[0m     \u001b[0;32mreturn\u001b[0m \u001b[0mLength_tube\u001b[0m\u001b[0;34m\u001b[0m\u001b[0m\n\u001b[1;32m      6\u001b[0m \u001b[0mLength_tube2\u001b[0m\u001b[0;34m=\u001b[0m\u001b[0mLength_tube\u001b[0m\u001b[0;34m(\u001b[0m\u001b[0mtube_size\u001b[0m\u001b[0;34m,\u001b[0m\u001b[0mflow_per_tube\u001b[0m\u001b[0;34m,\u001b[0m\u001b[0mHeadlossDosingTubeMax\u001b[0m\u001b[0;34m)\u001b[0m\u001b[0;34m\u001b[0m\u001b[0m\n",
      "\u001b[0;32m/Users/shiyaosun/anaconda/lib/python3.6/site-packages/pint/quantity.py\u001b[0m in \u001b[0;36m__sub__\u001b[0;34m(self, other)\u001b[0m\n\u001b[1;32m    678\u001b[0m \u001b[0;34m\u001b[0m\u001b[0m\n\u001b[1;32m    679\u001b[0m     \u001b[0;32mdef\u001b[0m \u001b[0m__sub__\u001b[0m\u001b[0;34m(\u001b[0m\u001b[0mself\u001b[0m\u001b[0;34m,\u001b[0m \u001b[0mother\u001b[0m\u001b[0;34m)\u001b[0m\u001b[0;34m:\u001b[0m\u001b[0;34m\u001b[0m\u001b[0m\n\u001b[0;32m--> 680\u001b[0;31m         \u001b[0;32mreturn\u001b[0m \u001b[0mself\u001b[0m\u001b[0;34m.\u001b[0m\u001b[0m_add_sub\u001b[0m\u001b[0;34m(\u001b[0m\u001b[0mother\u001b[0m\u001b[0;34m,\u001b[0m \u001b[0moperator\u001b[0m\u001b[0;34m.\u001b[0m\u001b[0msub\u001b[0m\u001b[0;34m)\u001b[0m\u001b[0;34m\u001b[0m\u001b[0m\n\u001b[0m\u001b[1;32m    681\u001b[0m \u001b[0;34m\u001b[0m\u001b[0m\n\u001b[1;32m    682\u001b[0m     \u001b[0;32mdef\u001b[0m \u001b[0m__rsub__\u001b[0m\u001b[0;34m(\u001b[0m\u001b[0mself\u001b[0m\u001b[0;34m,\u001b[0m \u001b[0mother\u001b[0m\u001b[0;34m)\u001b[0m\u001b[0;34m:\u001b[0m\u001b[0;34m\u001b[0m\u001b[0m\n",
      "\u001b[0;32m/Users/shiyaosun/anaconda/lib/python3.6/site-packages/pint/quantity.py\u001b[0m in \u001b[0;36m_add_sub\u001b[0;34m(self, other, op)\u001b[0m\n\u001b[1;32m    584\u001b[0m             raise DimensionalityError(self._units, other._units,\n\u001b[1;32m    585\u001b[0m                                       \u001b[0mself\u001b[0m\u001b[0;34m.\u001b[0m\u001b[0mdimensionality\u001b[0m\u001b[0;34m,\u001b[0m\u001b[0;34m\u001b[0m\u001b[0m\n\u001b[0;32m--> 586\u001b[0;31m                                       other.dimensionality)\n\u001b[0m\u001b[1;32m    587\u001b[0m \u001b[0;34m\u001b[0m\u001b[0m\n\u001b[1;32m    588\u001b[0m         \u001b[0;31m# Next we define some variables to make if-clauses more readable.\u001b[0m\u001b[0;34m\u001b[0m\u001b[0;34m\u001b[0m\u001b[0m\n",
      "\u001b[0;31mDimensionalityError\u001b[0m: Cannot convert from 'centimeter * gram * inch ** 4 * second / liter / milligram' ([length] ** 2 * [time]) to 'liter * milligram / gram / meter ** 2' ([length])"
     ]
    }
   ],
   "source": [
    "def Length_tube(tube_size,flow_per_tube,HeadlossDosingTubeMax):\n",
    "    Length_tube = np.zeros(len(tube_size))*u.m\n",
    "    for i in range(0,len(tube_size)):\n",
    "        Length_tube[i]=(9.8*u.m**2/u.s*HeadlossDosingTubeMax*3.14159*((tube_size[i])**4))/(128*NuBleach*flow_per_tube[i])-flow_per_tube[i]*KMinor/(16*3.14159*NuBleach)        \n",
    "    return Length_tube\n",
    "Length_tube2=Length_tube(tube_size,flow_per_tube,HeadlossDosingTubeMax)\n",
    "Length_tube2"
   ]
  },
  {
   "cell_type": "markdown",
   "metadata": {},
   "source": [
    "### 20)\n",
    "Which option do you think is best? You can simply set the array index to your choice and then display your solution by using that index value on your arrays for number of tubes, flow rates, tube diameters, and length of tubes."
   ]
  },
  {
   "cell_type": "code",
   "execution_count": null,
   "metadata": {
    "collapsed": true
   },
   "outputs": [],
   "source": []
  },
  {
   "cell_type": "markdown",
   "metadata": {},
   "source": [
    "### 21)\n",
    "What physical constraints might you use to select the best solution? How did you make your selection in Problem 19?"
   ]
  },
  {
   "cell_type": "markdown",
   "metadata": {},
   "source": [
    "### Constraints and Explanation:\n"
   ]
  },
  {
   "cell_type": "markdown",
   "metadata": {},
   "source": [
    "### 22)\n",
    "AguaClara has coded these dosing tube size functions in the CDC Functions (cdc_functions). Find the function calls for the length, diameter, and number of dosing tubes and use those functions to calculate the values for the problem that you solved above. Compare your answers. Your answers should agree!"
   ]
  },
  {
   "cell_type": "code",
   "execution_count": null,
   "metadata": {
    "collapsed": true
   },
   "outputs": [],
   "source": [
    "from aide_design import cdc_functions as cdc\n",
    "\n",
    "#The cdc functions file has an enumerated list for different checmials to obtain the correct kinematic viscosity.\n",
    "# 0 is Alum, 1 is PACl, 2 is water/chlorine\n",
    "\n",
    "EnChem = 2\n",
    "\n",
    "#see the \n",
    "#viscosity_kinematic_chem(conc_chem, temp, en_chem):\n",
    "#to see how EnChem is used."
   ]
  },
  {
   "cell_type": "code",
   "execution_count": null,
   "metadata": {
    "collapsed": true
   },
   "outputs": [],
   "source": [
    "# The maximum tube length constraint might be based on the length of the available wall where the \n",
    "# dosing tube will be mounted. You might change this depending on which solution \n",
    "# you picked in step 20. Here the wall length is LengthTubeMax.\n",
    "\n",
    "LengthTubeMax = 5*u.m\n",
    "\n",
    "#---------------------------------------------------------------------------------------------------------------------------\n",
    "#-------------------------------------------------DO PROBLEM 22 BELOW-------------------------------------------------------\n",
    "#---------------------------------------------------------------------------------------------------------------------------"
   ]
  }
 ],
 "metadata": {
  "kernelspec": {
   "display_name": "Python 3",
   "language": "python",
   "name": "python3"
  },
  "language_info": {
   "codemirror_mode": {
    "name": "ipython",
    "version": 3
   },
   "file_extension": ".py",
   "mimetype": "text/x-python",
   "name": "python",
   "nbconvert_exporter": "python",
   "pygments_lexer": "ipython3",
   "version": "3.6.1"
  }
 },
 "nbformat": 4,
 "nbformat_minor": 2
}
