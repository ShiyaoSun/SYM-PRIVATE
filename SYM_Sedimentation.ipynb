{
 "cells": [
  {
   "cell_type": "markdown",
   "metadata": {},
   "source": [
    "# DC Sedimentation "
   ]
  },
  {
   "cell_type": "code",
   "execution_count": 1,
   "metadata": {
    "collapsed": true,
    "scrolled": false
   },
   "outputs": [],
   "source": [
    "from aide_design.play import*\n",
    "from aide_design import floc_model as floc\n",
    "from pytexit import py2tex\n",
    "\n",
    "#Below are the items that were imported by the code above so that you know what abbreviations to use in your code.\n",
    "\n",
    "# Third-party imports\n",
    "#import numpy as np\n",
    "#import pandas as pd\n",
    "#import matplotlib.pyplot as plt\n",
    "#import matplotlib\n",
    "\n",
    "# AIDE imports\n",
    "#import aide_design\n",
    "#import aide_design.pipedatabase as pipe\n",
    "#from aide_design.units import unit_registry as u\n",
    "#from aide_design import physchem as pc\n",
    "#import aide_design.expert_inputs as exp\n",
    "#import aide_design.materials_database as mat\n",
    "#import aide_design.utility as ut\n",
    "#import aide_design.k_value_of_reductions_utility as k\n",
    "#import aide_design.pipeline_utility as pipeline\n",
    "#import warnings"
   ]
  },
  {
   "cell_type": "markdown",
   "metadata": {},
   "source": [
    "<div class=\"alert alert-block alert-info\">\n",
    "\n",
    "# Introduction\n",
    "\n",
    "The AguaClara team would like to understand how to design larger sedimentation tanks. In this design challenge you will learn how some of the sedimentation tank components work together. The design for an entire sedimentation tank is somewhat complex and you are welcome to review the sedimentation tank design file to see the latest AguaClara design team solution.  The sedimentation tank design has evolved rapidly over the past 10 years and our fabrication techniques have evolved as well.  \n",
    "\n",
    "In AguaClara sedimentation tanks the influent and effluent channels are located above the space occupied by the floc hopper. If you want to see how those geometric constraints are handled you can review the AguaClara sedimentation tank design file. AguaClara is currently working with Agua Para el Pueblo on a 120 L/s plant for Gracias. This plant would have 2 treatment trains and thus we can design for 60 L/s. For this design challenge you may assume the following:\n",
    "\n",
    "For each step in the solution define a variable with a name that is easily understood so that it can be used later if needed. Consider using the AguaClara naming convention.\n",
    "\n",
    "Use numpy for ceil, floor, sin, and pi.\n",
    "\n",
    "<br>\n",
    "<br>\n",
    "The following cell has constants defined for you to use in designing your sedimentation tank. Read through and run it so you know what variables have been defined for you. "
   ]
  },
  {
   "cell_type": "code",
   "execution_count": 2,
   "metadata": {
    "collapsed": true
   },
   "outputs": [],
   "source": [
    "# We are experimenting with using head loss at the exit of the diffusers as\n",
    "# a reasonable design constraint for the design of the\n",
    "# inlet manifold/diffuser system. This head loss in the exit of the diffuser\n",
    "# will allow higher velocities (and pressure recovery) in the manifold pipe\n",
    "# and thus will enable use of smaller diameter manifold pipes.\n",
    "# -----\n",
    "# We've set a maximum head loss in the sedimentation tank inlet:\n",
    "headloss_sed_inlet_max = 1 * u.cm\n",
    "\n",
    "# The manifold and diffuser pipes used in the sedimentation tank have an SDR of 26.\n",
    "SDR=26\n",
    "\n",
    "# Pi_jet_plane is used to estimate the maximum energy dissipation rate in a plane jet. \n",
    "# A plane jet is uniform in one dimension. A plane jet can be formed by a long narrow slot.\n",
    "Pi_jet_plane = 0.225\n",
    "\n",
    "# Design temperature will be helpful to calculate viscosity\n",
    "T_design = 15*u.degC\n",
    "\n",
    "# Plant Flowrate:\n",
    "flow_plant = 60 * u.L/u.s\n",
    "\n",
    "# Upflow velocity at the top of the floc blanket:\n",
    "V_sed_up = 1 * u.mm/u.s\n",
    "\n",
    "# The corrugated plastic sheets used to make the plate settlers:\n",
    "W_sed = 42 * u.inch\n",
    "thickness_sed_plate = 2 * u.mm\n",
    "\n",
    "# The plate settlers are angled 60° from the horizontal:\n",
    "angle_sed_plate = 60 * u.deg\n",
    "\n",
    "# The plate setters are spaced 2.5cm apart (this is the perpendicular\n",
    "# distance between plates, not the horizontal distance between plates):\n",
    "s_sed_plate = 2.5 * u.cm\n",
    "\n",
    "# Plate settler capture velocity:\n",
    "V_sed_capture = 0.12 * u.mm/u.s\n",
    "\n",
    "# The minimum port flow (from the first port) divided by the maximum port \n",
    "# flow (from the last port) for flow division between sedimentation tanks \n",
    "# and for flow distribution from the inlet manifold should be at least:\n",
    "Pi_sed_manifold_flow = 0.8\n",
    "\n",
    "g = pc.gravity"
   ]
  },
  {
   "cell_type": "markdown",
   "metadata": {},
   "source": [
    "## Diffusers"
   ]
  },
  {
   "cell_type": "markdown",
   "metadata": {},
   "source": [
    "### 1:\n",
    "\n",
    "We will start our design of the sedimentation tank by considering the diffusers. \n",
    "\n",
    "* Calculate the maximum velocity of water leaving the diffuser based on the maximum head loss. Assume that the majority of head loss is the kinetic energy of the flow exiting the diffuser slot (this assumption will be checked later). Assume K=1. \n",
    "\n",
    "\n",
    "* Calculate the minimum inner width of the diffuser. Assume that the diffuser slot is continuous over the entire length of the sedimentation tank to get an initial estimate (it isn't actually continuous because it is made from many flattened diffuser pipes).\n",
    "\n",
    "Define your answers as variables and then print those variables.\n",
    "\n"
   ]
  },
  {
   "cell_type": "markdown",
   "metadata": {},
   "source": [
    "### 2:\n",
    "\n",
    "Diffusers are made by deforming PVC pipe. Softened PVC pipe is forced onto a mold that shapes it into the rectangular shape of the diffuser (see slides from the Sedimentation Lecture).\n",
    "\n",
    "* What metal plate thickness should be used to make the mold for the diffusers? This value will be the minumum diffuser width. Metal plates are available in 1/16\" increments of thickness. The minimum thickness of plate that is strong enough for a mold is 1/16\".\n",
    "\n",
    "Note: you can use the `ceil_nearest` function defined in `utility.py` to do this elegantly. You can create an array of available metal plates using `numpy.arange`. "
   ]
  },
  {
   "cell_type": "markdown",
   "metadata": {},
   "source": [
    "## Py2tex\n",
    "Show your work for question 3 using pytexit's py2tex. You will need to [install pytextit](https://confluence.cornell.edu/display/cee4540/Installing+Pytexit) if you have not done that yet.  \n",
    "1. Pytexit is a python package which contains Py2tex and:\n",
    "    1. Allows you to write LaTeX formulas directly from the Python expression.\n",
    "    1. Checks Python formulas for correctness: once printed, LaTeX is much more readable than a multiline Python expression. \n",
    "<br>\n",
    "<br>\n",
    "1. **Note:** Py2tex does not handle references from aide_design files well (ex. pc.(), floc.()) but will handle greek letters,numpy (ex. np.pi, np.sin), and user defined variables and functions. \n",
    "    1. Simply enter your equation to py2tex within ' apostrophes '.\n",
    "    1. Because py2tex has difficulty with user defined file references, **`py2tex('pc.flow_pipe')` is not okay, but `py2tex('flow_pipe')` is okay**\n",
    "<br>\n",
    "<br>\n",
    "1. Follow the example offered below. The outputs from this function can be added to a markdown cell to document your work in a human readable format. "
   ]
  },
  {
   "cell_type": "code",
   "execution_count": 29,
   "metadata": {},
   "outputs": [
    {
     "data": {
      "text/latex": [
       "$$Vel_{Tube,Max}=\\left(\\frac{2\\,\\Pi_{Error}\\,Headloss_{DosingTube,Max}\\,g}{K_{Minor}}\\right)^{\\frac{1}{2}}$$"
      ],
      "text/plain": [
       "<IPython.core.display.Latex object>"
      ]
     },
     "metadata": {},
     "output_type": "display_data"
    },
    {
     "name": "stdout",
     "output_type": "stream",
     "text": [
      "$$Vel_{Tube,Max}=\\left(\\frac{2\\,\\Pi_{Error}\\,Headloss_{DosingTube,Max}\\,g}{K_{Minor}}\\right)^{\\frac{1}{2}}$$\n"
     ]
    },
    {
     "data": {
      "text/plain": [
       "'$$Vel_{Tube,Max}=\\\\left(\\\\frac{2\\\\,\\\\Pi_{Error}\\\\,Headloss_{DosingTube,Max}\\\\,g}{K_{Minor}}\\\\right)^{\\\\frac{1}{2}}$$'"
      ]
     },
     "execution_count": 29,
     "metadata": {},
     "output_type": "execute_result"
    }
   ],
   "source": [
    "Pi_Error = 0.1\n",
    "Headloss_DosingTube_Max = 20*(u.cm)\n",
    "K_Minor = 2\n",
    "\n",
    "Vel_Tube_Max = (((Pi_Error * 2 * Headloss_DosingTube_Max * g) / K_Minor)**(1/2)).to(u.meter/u.s)\n",
    "py2tex('Vel_Tube_Max = (((Pi_Error * 2 * Headloss_DosingTube_Max * g) / K_Minor)**(1/2))')"
   ]
  },
  {
   "cell_type": "markdown",
   "metadata": {},
   "source": [
    "### 3:\n",
    "\n",
    "The PVC pipe that forms the diffusers changes in shape and wall thickness during the molding process. The inner width of the rectangle is created by forcing the pipe over a rectangular wedge that is the thickness you calculated above. During the molding process, PVC pipe wall cross-sectional area is conserved. The pipe wall is stretched in total length approximately 20%. Another way to think about this is that the thickness of the wall is reduced by a factor of 1/1.2 because the mass of PVC is conserved and the density is unchanged. Thus, volume and cross-sectional area are conserved.  \n",
    "\n",
    "* Start by drawing a picture of what is happening to the deformation of the pipe as it is converted from the circular pipe to the rectangular diffuer slot (assume that the slot is a rectangle with perfectly square corners). You do not need to submit your sketches for this design challenge. \n",
    "    * Draw the initial circular pipe. Label the diagram with the appropriate variables for inner diameter, outer diameter, and wall thickness. \n",
    "    * Draw the final rectangular diffuser slot. Label the diagram with the appropriate variables for length, width, and wall thickness. \n",
    " \n",
    " \n",
    "Area is given using the following equation: \n",
    "$$Area_{PVC}=2\\left (B_{diffuser}+W_{diffuser} \\right )thickness_{wall}$$\n",
    "\n",
    "* Use the equation for $Area_{PVC}$ to calculate the following:\n",
    "\n",
    "    * the outer length of the rectangular diffuser slot, $B_{diffuser}$.\n",
    "    * the inner length of the rectangular diffuser slot, $W_{diffuser}$.\n",
    "\n",
    "\n",
    "Answering this question will require using functions from the `pipedatabase` file, imported here as `pipe`. "
   ]
  },
  {
   "cell_type": "code",
   "execution_count": 6,
   "metadata": {
    "collapsed": true
   },
   "outputs": [],
   "source": [
    "SDR=26\n",
    "\n",
    "# Assumed stretch of the PVC pipes as they are heated and molded:\n",
    "Pi_PVC_stretch = 1.2\n",
    "\n",
    "# Nominal diameter of the sed tank diffuser\n",
    "ND_sed_diffuser = 1 * u.inch"
   ]
  },
  {
   "cell_type": "markdown",
   "metadata": {},
   "source": [
    "### 4:\n",
    "\n",
    "Each diffuser serves a certain width and length of the sedimentation tank. Assume that the diffusers are installed so that they touch each other. \n",
    "\n",
    "* Determine the flow through each diffuser.\n",
    "* Determine the velocity through each diffuser.\n"
   ]
  },
  {
   "cell_type": "markdown",
   "metadata": {},
   "source": [
    "### 5:\n",
    "\n",
    "What is the Reynolds number of the jet exiting the diffusers? \n",
    "\n",
    "Note: you will likely need to force Pint to display this as a dimensionless number."
   ]
  },
  {
   "cell_type": "markdown",
   "metadata": {},
   "source": [
    "### 6:\n",
    "\n",
    "What is the Reynolds number of the vertical flow up through the top of the floc blanket?"
   ]
  },
  {
   "cell_type": "markdown",
   "metadata": {},
   "source": [
    "### 7:\n",
    "\n",
    "Compare the two values for Reynolds numbers that you found for Problems 5 and 6. What do the Reynolds numbers for these very different flows tell you? "
   ]
  },
  {
   "cell_type": "markdown",
   "metadata": {},
   "source": [
    "### 8:\n",
    "Next, we want to determine the energy dissipation rate for the flow leaving the jet reverser. For this process, you can assume that the jet remains laminar. The flow spreads to fill the gaps created by the walls of the diffuser tubes by the time it traverses the jet reverser. Jet velocity and flow rate are conserved as the jet changes direction in the jet reverser.\n",
    "\n",
    "* Calculate the thickness of the jet after it does the 180 degree bend of the jet reverser. \n",
    "* Calculate the energy dissipation rate for the flow leaving the jet reverser. \n",
    "\n",
    "Convert your final answer to milliwatts per kilogram."
   ]
  },
  {
   "cell_type": "markdown",
   "metadata": {},
   "source": [
    "### 9:\n",
    "\n",
    "In desiging AguaClara plants, it is critical to account for all forms of significant head loss. In the sedimentation tank, effluent launders provide about 4 cm of head loss. We want to calculate the exit head loss for water leaving the diffusers to determine whether it is a significant addition to the total head loss through the sedimentation tank. \n",
    "\n",
    "Calculate this diffuser exit head loss in two ways. \n",
    "* First, calculate the head loss making sure to account for the upflow velocity in the sed tank.\n",
    "* Second, calculate the head loss but assume that the upflow velocity is negligible. \n",
    "\n",
    "* Is it reasonable to neglect the upflow velocity in the sed tank when calculating this head loss?\n",
    "\n",
    "$$ h_e = \\frac{\\left( {{V_{in}} - {V_{out}}} \\right)^2}{2g} $$\n",
    "\n",
    "You will find that the exit head loss for water leaving the diffuser is high enough that we need to account for head loss in the sed tank inlet piping for our designs."
   ]
  },
  {
   "cell_type": "markdown",
   "metadata": {},
   "source": [
    "## Manifold and Launders"
   ]
  },
  {
   "cell_type": "markdown",
   "metadata": {},
   "source": [
    "Flow distribution between and within sedimentation tanks is an important design component to ensure good sedimentation performance. We need to distribute flow uniformly between sedimentation tanks and also between diffusers on the inlet manifolds. \n",
    "\n",
    "The following variable definitions and equations will be useful in answering later questions. \n",
    "* ${hl}_{ParallelPath}$ is the head loss (flow resistance) in the parallel paths leaving the manifold. The head loss in the parallel path is the total head loss from where the flow leaves the manifold to the point where the parallel flows reunite.\n",
    "* $\\Delta{H}_{Manifold}$ is the variability in piezometric head in the manifold that is driving the flow through the parallel paths. \n",
    "\n",
    "* The ratio of minimum (first diffuser port) to maximum (last diffuser port) flow is given by:\n",
    "\n",
    "$$\\Pi_{DiffuserFlow} = \\sqrt{\\frac{{hl}_{ParallelPath} -  \\frac{\\Delta{H}_{Manifold}}{2}}{{hl}_{ParallelPath} + \\frac{\\Delta{H}_{Manifold}}{2}}}$$\n",
    "\n",
    "* The change in piezometric head is given by:\n",
    "$$\\Delta{H}_{Manifold} = \\frac{{{Velocity}_{Manifold}}^{2}}{2g}$$\n",
    "\n",
    "* The maximum allowable velocity in the manifold is given by:\n",
    "\n",
    "$${\\Pi_{DiffuserFlow}}^{2} * \\left({hl}_{ParallelPath} + \\frac{\\Delta{H}_{Manifold}}{2} \\right) = {hl}_{ParallelPath} -  \\frac{\\Delta{H}_{Manifold}}{2}$$\n",
    "\n",
    "$$\\left({\\Pi_{DiffuserFlow}}^{2} - 1 \\right) {hl}_{ParallelPath} + \\left({\\Pi_{DiffuserFlow}}^{2} + 1 \\right) \\frac{\\Delta{H}_{Manifold}}{2} = 0$$\n",
    "\n",
    "$$\\left(\\frac{1 - {\\Pi_{DiffuserFlow}}^{2}}{{\\Pi_{DiffuserFlow}}^{2} + 1} \\right) {hl}_{ParallelPath} =  \\frac{\\Delta{H}_{Manifold}}{2}$$\n",
    "\n",
    "$$\\left(\\frac{1 - {\\Pi_{DiffuserFlow}}^{2}}{{\\Pi_{DiffuserFlow}}^{2} + 1} \\right) {hl}_{ParallelPath} = \\frac{{{Velocity}_{Manifold}}^{2}}{4g}$$"
   ]
  },
  {
   "cell_type": "markdown",
   "metadata": {},
   "source": [
    "### 10:\n",
    "\n",
    "Now, we want to find the maximum velocity for an inlet manifold which is dependent on the given flow distribution constraint, $\\Pi_{DiffuserFlow}$, and the head loss in the parallel paths, ${hl}_{ParallelPath}$. \n",
    "\n",
    "* Determine the relationship between diffuser exit velocity and the head loss in the parallel paths.\n",
    "* Determine an equation for maximum velocity for an inlet manifold in terms of diffuser exit velocity and the flow distribution constraint.\n",
    "* Write a **function** for maximum velocity for an inlet manifold using the equations you just found.\n",
    "\n",
    "\n",
    "Exit losses from the diffusers dominate the head loss because the velocity in the diffuser slots is much higher than the velocity at the entrance to the diffuser pipes. Using the insight from the previous problem, it is reasonable to neglect the effect of the upflow velocity when calculating the exit head loss for the manifold diffusers."
   ]
  },
  {
   "cell_type": "markdown",
   "metadata": {},
   "source": [
    "### 11:\n",
    "Head loss in the sedimentation tank is impacted by multiple forms of head loss, inlcuding head loss through the effluent launder and diffusers. Head loss through the effluent launder is about 4 cm. You found head loss through the diffusers in Problem 9.  \n",
    "* Which form of head loss (effluent launder or diffuser) is in the parallel path, ${hl}_{ParallelPath}$?\n",
    "\n",
    "Use the function that you wrote for Problem 10 to calculate the maximum velocity in the inlet manifold of the sedimentation tank. \n",
    "* Use the value for `Pi_sed_manifold_flow` given above. \n",
    "* Use the diffuser exit velocity you found in Problem 4. \n"
   ]
  },
  {
   "cell_type": "markdown",
   "metadata": {},
   "source": [
    "### 12:\n",
    "The ratio of manifold pipe cross-sectional area to total diffuser cross-sectional area determines the flow distribution between diffusers. \n",
    "\n",
    "* Calculate the ratio of manifold pipe cross-sectional area to total diffuser cross-sectional area. You can use the velocities of the manifold and the diffusers to calculate the areas. \n",
    "* What is the significance of the flow area ratio that you found? What does it tell you about the relative areas? \n",
    "\n",
    "Note: the flow distribution will be more uniform if the diffuser velocity is higher than the manifold velocity."
   ]
  },
  {
   "cell_type": "markdown",
   "metadata": {},
   "source": [
    "### 13:\n",
    "\n",
    "The maximum sed tank flow rate is currently set by the constraint of using a single length of pipe for the manifold and launder. The maximum length of the upflow region of the sedimentation tank is 5.8 m, as given below. \n",
    "* What is the corresponding sedimentation tank flow rate?"
   ]
  },
  {
   "cell_type": "code",
   "execution_count": 16,
   "metadata": {
    "collapsed": true
   },
   "outputs": [],
   "source": [
    "L_sed_upflow_max = 5.8 * u.m"
   ]
  },
  {
   "cell_type": "markdown",
   "metadata": {},
   "source": [
    "### 14:\n",
    "The maximum sed tank flow rate dictates the required pipe diameter for the manifold and launder.  \n",
    "\n",
    "* What is the minimum inner diameter of the sedimentation tank manifold? \n",
    "* What is the required nominal pipe diameter given this flow rate? Use the `pipe.ND_SDR_available` function. \n",
    "\n",
    "SDR is the same as given in Problem 3 (SDR = 26)."
   ]
  },
  {
   "cell_type": "markdown",
   "metadata": {},
   "source": [
    "## Sedimentation Tank Bays and Number of Diffusers\n"
   ]
  },
  {
   "cell_type": "markdown",
   "metadata": {},
   "source": [
    "### 15:\n",
    "\n",
    "What is the total required plan area for the sedimentation tanks? Calculate this using the design flow rate and the upflow velocity between the floc blanket and plate settlers.\n",
    "\n",
    "Give your final answer in square meters."
   ]
  },
  {
   "cell_type": "markdown",
   "metadata": {},
   "source": [
    "### 16:\n",
    "\n",
    "What is the total length of the floc blanket zone for all tanks? Calculate this using the total required plan area for the sedimentation tank and the sedimentation tank width.\n",
    "\n",
    "This total length will enable you to calculate how many sed tanks are required."
   ]
  },
  {
   "cell_type": "markdown",
   "metadata": {},
   "source": [
    "### 17:\n",
    "\n",
    "How many sedimentation tanks are required to treat the total plant flow? Calculate this using the the total plant flow rate and the maximum sed tank flow rate. The plant flow rate is the basis of design and the maximum sed tank flow rate is based on the manifold diameter. \n",
    "\n",
    "Your answer should be an integer value. \n"
   ]
  },
  {
   "cell_type": "markdown",
   "metadata": {},
   "source": [
    "### 18:\n",
    "\n",
    "How much water (in L/s) can all of the sedimentation tanks for the plant treat? Assume that all tanks have been built to maximum length. "
   ]
  },
  {
   "cell_type": "markdown",
   "metadata": {},
   "source": [
    "### 19:\n",
    "\n",
    "How many diffusers are required in each tank? Assume the maximum length of the upflow region of the sedimentation tank is used. Use the `np.floor` function to round down to an integer value. "
   ]
  },
  {
   "cell_type": "markdown",
   "metadata": {},
   "source": [
    "## Plate Settlers\n",
    "\n",
    "You may assume that the active area of the sedimentation tank is equal to the top area of the floc blanket zone. This isn't quite right because of the geometric constraints from the floc hopper, inlet channel, settled water channel, and angled plates. However, it is a good approximation for these long tanks. We will use this approximation to determine the plate settler details. "
   ]
  },
  {
   "cell_type": "markdown",
   "metadata": {},
   "source": [
    "### 20:\n",
    "\n",
    "What is the required length of the plate settlers? Do not neglect the thickness of the plate settlers."
   ]
  },
  {
   "cell_type": "markdown",
   "metadata": {},
   "source": [
    "### 21: \n",
    "\n",
    "What is the horizontal spacing (center to center) of the plate settlers?"
   ]
  },
  {
   "cell_type": "markdown",
   "metadata": {},
   "source": [
    "### 22:\n",
    "\n",
    "Approximately how many plate settlers spaces are needed in each sedimentation tank? Assume the maximum length of the upflow region of the sedimentation tank is used. Neglect the lost space at the end of the sedimentation tank due to the angle of the plate settlers.\n",
    "\n",
    "Round your answer to the closest integer value. "
   ]
  },
  {
   "cell_type": "markdown",
   "metadata": {},
   "source": [
    "Congratulations on making it this far! Although we haven't designed every component in the sedimentation tank, you have a good idea of the analysis that is required for systematic parametric design. We have not covered the topics of the inlet channel, the launder that removes clean water from the top of the sedimentation tank, the floc weir or floc hopper, or the system of equations used to calculate the final depth of the sedimentation tank. The detailed design required to create a high-performing sedimentation tank is sophisticated, complicated, and if you are successful the resulting sedimentation tank is high-performing and easy to maintain!"
   ]
  }
 ],
 "metadata": {
  "kernelspec": {
   "display_name": "Python 3",
   "language": "python",
   "name": "python3"
  },
  "language_info": {
   "codemirror_mode": {
    "name": "ipython",
    "version": 3
   },
   "file_extension": ".py",
   "mimetype": "text/x-python",
   "name": "python",
   "nbconvert_exporter": "python",
   "pygments_lexer": "ipython3",
   "version": "3.6.1"
  }
 },
 "nbformat": 4,
 "nbformat_minor": 2
}
