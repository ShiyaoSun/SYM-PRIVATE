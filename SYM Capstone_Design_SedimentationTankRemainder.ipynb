{
 "cells": [
  {
   "cell_type": "markdown",
   "metadata": {},
   "source": [
    "# Capstone Design: Sedimentation Tank Remainder\n",
    "\n",
    "### Team SYM\n",
    "\n",
    "### Shiyao Sun and Melanie Lim"
   ]
  },
  {
   "cell_type": "markdown",
   "metadata": {
    "collapsed": true
   },
   "source": [
    "### Monroe's comments \n",
    "(include this in your next submission so I can verify that you've addressed all of these issues.)\n",
    "<font color=\"red\">  </font>\n",
    "* <font color=\"red\">  Add an introduction explaining the problem that you are solving. The goal is to design a sed tank that can be used in many communities.\n",
    "* Did you review the mathcad file that was used as the previous design? I get the impression that you didn't use that very valuable resource.</font> \n",
    "* Define the problem and explain how you will solve it.</font>\n",
    "* Set this up for working in Python. Define the constants that you already know. You can look in the expert inputs file (see the mathcad source files linked below) to see if there are any other constraints you are missing for the sed tank.\n",
    "* Start with the python code from the sed tank design challenge.\n",
    "For the next submission you will want to have the majority of the sed tank designed. This is a significant challenge. The AIDE team can help specify what level of detail they need to be able to draw the sed tank.\n",
    "\n",
    "It seems that you missed the guidance for this report. See https://confluence.cornell.edu/display/cee4540/DC+Capstone+Design\n",
    "well documented report created in Jupyter with responses to comments received from previous submissions.\n",
    "The report must be formatted to be one page wide and must be organized with text used to introduce and explain equations, images, and design methods.\n",
    "Explain ALL calculations step by step including why you are doing the calculation.\n",
    "Present each equation you use in a markdown cell using beautiful Latex and then follow that with the code cell with the function written in Python.\n",
    "If you need to display results in a table, use a DataFrame to make a nicely formatted result that changes with input parameters.\n",
    "The report must explain why you have made the decisions that you have made.\n",
    "Explain the physics of the problem and how that influences your solution scheme.\n",
    "Explain the constraints \n",
    "Document your sources of information with in text citations and a bibliography.\n",
    "Relevant equations created using Latex and included with the text of the report.\n",
    "Jupyter worksheet must be organized as a stand alone report that can be read and easily understood from beginning to end.\n",
    "Include sketches, drawings, graphs as part of the Jupyter document. Either include any required images and zip all of the files together for submission.\n",
    "Include sketches that show the geometry of your system and make sure that all variables are clearly defined. Write in paragraph format so that your work is easy to understand.\n",
    "Clearly explain which equations you developed and which equations you borrowed from the AguaClara source code.\n",
    "Spell check before submitting and proofread the entire report."
   ]
  },
  {
   "cell_type": "code",
   "execution_count": 2,
   "metadata": {
    "collapsed": true
   },
   "outputs": [],
   "source": [
    "from aide_design.play import*\n",
    "from aide_design import floc_model as floc\n",
    "from pytexit import py2tex\n",
    "import math"
   ]
  },
  {
   "cell_type": "markdown",
   "metadata": {},
   "source": [
    "<div class=\"alert alert-block alert-info\">\n",
    "\n",
    "# <u>Introduction</u>\n",
    "\n",
    "The goal of this Capstone Design challenge is to design a sedimentation tank that can be used in multiple communities. According to given inputs focused on the remainder of the sedimentation tank, the tank dimensions can be calculated using flow equations and functions we have learned throughout this semester.\n"
   ]
  },
  {
   "cell_type": "markdown",
   "metadata": {},
   "source": [
    "<font color=\"red\">\n",
    "* Your list of constraints isn't the list that you are using for your design. Create a list that precisely matches your design steps and in python assign those constraints to variables. For example, the capture velocity is a design constraint that you use. The physical size of the sedimentation tank is NOT a constraint.\n",
    "</font>\n",
    "\n",
    "\n",
    "## Constraints\n",
    "\n",
    "Material Properties:\n",
    "- Amount of material\n",
    "- Cost of material/construction\n",
    "\n",
    "<br>\n",
    "- Timing of floc settlement in the tank\n",
    "- Upflow velocity in the floc blanket\n",
    "- Capture velocity\n",
    "- **Design flow rate**\n",
    "- Plate settler spacing and width\n",
    "- Minimum depth of the floc blanket\n",
    "- Head loss through orifices in the effluent manifold\n",
    "\n",
    "Operator/User Specifications: <font color=\"red\"> How is this different from important constraints? </font>\n",
    "- Inflow data (fluid temperature, turbidity, capture velocity)\n",
    "\n",
    "Major Design Alternatives:\n",
    "- Vertical flow sedimentation tank\n",
    "- Horizontal flow sed tank\n",
    "\n",
    "\n",
    "<font color=\"red\"> \n",
    "Explain how you will choose which of these alternatives to use in your design. \n",
    "\n",
    "Below you define SDR more than once. Fix this.\n",
    "\n",
    "Move ALL of the constraints to one cell and organize them by type of constraint. See if you can identify the different types of constraints. For example, one type is material properties.\n",
    "</font>\n",
    "\n",
    "\n",
    "<br>"
   ]
  },
  {
   "cell_type": "code",
   "execution_count": 3,
   "metadata": {
    "collapsed": true
   },
   "outputs": [],
   "source": [
    "# We are experimenting with using head loss at the exit of the diffusers as\n",
    "# a reasonable design constraint for the design of the\n",
    "# inlet manifold/diffuser system. This head loss in the exit of the diffuser\n",
    "# will allow higher velocities (and pressure recovery) in the manifold pipe\n",
    "# and thus will enable use of smaller diameter manifold pipes.\n",
    "# -----\n",
    "# We've set a maximum head loss in the sedimentation tank inlet:\n",
    "headloss_sed_inlet_max = 1 * u.cm\n",
    "\n",
    "# The manifold and diffuser pipes used in the sedimentation tank have an SDR of 26.\n",
    "SDR=26\n",
    "\n",
    "# Pi_jet_plane is used to estimate the maximum energy dissipation rate in a plane jet. \n",
    "# A plane jet is uniform in one dimension. A plane jet can be formed by a long narrow slot.\n",
    "Pi_jet_plane = 0.225\n",
    "\n",
    "# Design temperature will be helpful to calculate viscosity\n",
    "T_design = 15*u.degC\n",
    "\n",
    "# Plant Flowrate:\n",
    "flow_plant = 60 * u.L/u.s\n",
    "\n",
    "# Upflow velocity at the top of the floc blanket:\n",
    "V_sed_up = 1 * u.mm/u.s\n",
    "\n",
    "# The corrugated plastic sheets used to make the plate settlers:\n",
    "W_sed = 42 * u.inch\n",
    "thickness_sed_plate = 2 * u.mm\n",
    "\n",
    "# The plate settlers are angled 60° from the horizontal:\n",
    "angle_sed_plate = 60 * u.deg\n",
    "\n",
    "# The plate setters are spaced 2.5cm apart (this is the perpendicular\n",
    "# distance between plates, not the horizontal distance between plates):\n",
    "s_sed_plate = 2.5 * u.cm\n",
    "\n",
    "# Plate settler capture velocity:\n",
    "V_sed_capture = 0.12 * u.mm/u.s\n",
    "\n",
    "# The minimum port flow (from the first port) divided by the maximum port \n",
    "# flow (from the last port) for flow division between sedimentation tanks \n",
    "# and for flow distribution from the inlet manifold should be at least:\n",
    "Pi_sed_manifold_flow = 0.8\n",
    "\n",
    "g = pc.gravity"
   ]
  },
  {
   "cell_type": "markdown",
   "metadata": {},
   "source": [
    "## Plate Settlers"
   ]
  },
  {
   "cell_type": "markdown",
   "metadata": {},
   "source": [
    "Page in lecture notes on various velocities through the sed tank / plate settlers about V_up and V_vert in plate settlers\n",
    "* As the length of the sed tank decreases, the effect of the small wasted area at the end of the row of plate settlers row increases because the upflow velocity in floc blanket is kept constant\n",
    "* Therefore, we must increase the length of plate settlers as the length of the sed tank decreases\n",
    "* Standardize all plate settlers as 2 ft long with 2.5 cm spacing\n",
    "    * If these dimensions meet the capture velocity requirement, use as standard design dimensions\n",
    "    * Height of plates can also be calculated\n",
    "\n",
    "<br>\n",
    "\n",
    "* <font color=\"red\"> Include definition sketch showing dimensions with variable names.\n",
    "* Calculate the effect of the wasted space at the end of the plate settlers.\n",
    "* Show the equations that you use in Latex. Perhaps don't need all equations, but key equations should be shown.\n",
    "</font>\n"
   ]
  },
  {
   "cell_type": "code",
   "execution_count": 4,
   "metadata": {
    "collapsed": true
   },
   "outputs": [],
   "source": [
    "# These initializations can be easily changed according to different design parameters\n",
    "V_Upflow = 3 * (u.mm/u.s)\n",
    "V_Capture = 0.2 * (u.mm/u.s)\n",
    "Spacing_Settlers = 2.5 *(u.cm)\n",
    "Angle_sed_plate = 60 * (u.deg)\n",
    "Thickness_sed_plate = 0 * (u.mm)\n",
    "\n",
    "def C_to_C_Distance(Spacing_Settlers, Thickness_sed_plate):\n",
    "    # Return the center to center distance between two settler plates\n",
    "    return Spacing_Settlers + Thickness_sed_plate\n",
    "\n",
    "def Len_sed_plate(V_Upflow, V_Capture, Spacing_Settlers, Angle_sed_plate, Thickness_sed_plate):\n",
    "    # Return the length of the plate settlers\n",
    "    Top = Spacing_Settlers * (V_Upflow / V_Capture -1) + Thickness_sed_plate * (V_Upflow / V_Capture)\n",
    "    Bottom = math.cos(Angle_sed_plate) * math.sin(Angle_sed_plate)\n",
    "    Len_sed_plate = Top / Bottom\n",
    "    return Len_sed_plate.to(u.cm)\n",
    "\n",
    "def Vertical_Height_plate(V_Upflow, V_Capture, Spacing_Settlers, Angle_sed_plate, Thickness_sed_plate):\n",
    "    # Return the vertical length of the plate settlers\n",
    "    len_sed_plate = Len_sed_plate(V_Upflow, V_Capture, Spacing_Settlers, Angle_sed_plate, Thickness_sed_plate)\n",
    "    return (len_sed_plate **2 - (Len_sed_plate * math.cos(Angle_sed_plate))**2) ** (1/2)\n",
    "\n",
    "def Min_Adequate_Flow():\n",
    "    \n",
    "    return min_adeq_flow\n",
    "\n"
   ]
  },
  {
   "cell_type": "markdown",
   "metadata": {},
   "source": [
    "<font color=\"red\"> Calculate the minimum flow for a sed tank for which your standard plate settler design is adequate. Make a proposal for how to handle the design for any cases where the design capture velocity is not met. \n",
    "\n",
    "Test your code to make sure it works. Calculate values and print them.</font>"
   ]
  },
  {
   "cell_type": "markdown",
   "metadata": {},
   "source": [
    "## Floc Blankets"
   ]
  },
  {
   "cell_type": "markdown",
   "metadata": {},
   "source": [
    "We need a function for the length of floc blanket. Assume the height/depth of the floc blanket to be 25cm.\n",
    "<font color=\"red\"> What do you mean by the length of the floc blanket? How are you calculating this? Show the definition sketch that you are using to define the depth of the floc blanket \n",
    "Head loss for a floc blanket isn't an input. The operator doesn't have the ability to control the concentration of clay in the floc blanket. We don't have design equations for the floc blanket yet.\n",
    "</font>"
   ]
  },
  {
   "cell_type": "code",
   "execution_count": 8,
   "metadata": {
    "collapsed": true
   },
   "outputs": [],
   "source": [
    "# These initializations can be easily changed according to different design parameters\n",
    "Con_Clay = 3 * (u.g/u.L)\n",
    "V_Upflow = 1 * (u.mm/u.s)\n",
    "Temp_Water = 20 * (u.degC)\n",
    "Den_Clay = 2650 * (u.kg/(u.m**3))\n",
    "Porosity_FB = 1\n",
    "Den_Water = pc.density_water(Temp_Water)\n",
    "nu = pc.viscosity_kinematic(Temp_Water)\n",
    "headloss_Floc_Blanket = 0.2 * (u.cm)\n",
    "\n",
    "def Depth_Floc_Blanket(headloss_Floc_Blanket,Den_Water,Den_Clay,Con_Clay):\n",
    "    # Return the depth of the floc blanket\n",
    "    RHS = (1/Den_Water - 1/Den_Clay) * Con_Clay\n",
    "    return (headloss_Floc_Blanket / RHS)\n",
    "\n",
    "\n"
   ]
  },
  {
   "cell_type": "markdown",
   "metadata": {},
   "source": [
    "## Effluent Manifolds"
   ]
  },
  {
   "cell_type": "code",
   "execution_count": null,
   "metadata": {
    "collapsed": true
   },
   "outputs": [],
   "source": []
  },
  {
   "cell_type": "markdown",
   "metadata": {},
   "source": [
    "## Inlet Manifolds"
   ]
  },
  {
   "cell_type": "markdown",
   "metadata": {},
   "source": [
    "Assume manifold pipe is thin-walled with a SDR of 41.\n",
    "* ratio between smallest and largest velocity for diffusers\n",
    "* maximum head loss for jet coming out of diffuser, used \n",
    "* these ^ can find diameter for pipe to be and design for diffusers\n"
   ]
  },
  {
   "cell_type": "code",
   "execution_count": 6,
   "metadata": {
    "collapsed": true
   },
   "outputs": [],
   "source": [
    "Manifold_SDR = 41\n"
   ]
  },
  {
   "cell_type": "markdown",
   "metadata": {},
   "source": [
    "## Inlet Diffusers"
   ]
  },
  {
   "cell_type": "markdown",
   "metadata": {},
   "source": [
    "We need a function to calculate the length of diffuser.\n",
    "<font color=\"red\"> I'm not sure what constraint sets this length. Shorter is stronger. Longer does a better job of creating a uniform velocity from the diffuser tip, but this likely isn't very significant. For now I'd suggest using a length of 6 inches.\n",
    "\n",
    "You have equations below, but you don't use them for anything. This is true throughout the document. Why aren't there any calculations or design results? You have a design challenge where you designed inlet diffusers. Why not use that as a starting point?\n",
    " </font>"
   ]
  },
  {
   "cell_type": "code",
   "execution_count": 7,
   "metadata": {
    "collapsed": true
   },
   "outputs": [],
   "source": [
    "# These initializations can be easily changed according to different design parameters\n",
    "Diffuser_SDR=26\n",
    "ND_sed_diffuser = 1 * u.inch\n",
    "ID_sed_diffuser = pipe.ID_SDR(ND_sed_diffuser,SDR)\n",
    "OD_sed_diffuser = pipe.OD(ND_sed_diffuser)\n",
    "\n",
    "def V_Jet(headloss_jet):\n",
    "    return (2* pc.gravity * headloss_jet) ** (1/2)\n",
    "\n",
    "def Width_Diffuser(V_sed,W_sed,B_Diffuser,headloss_jet,S_Diffuser):\n",
    "    return V_sed * W_sed * B_Diffuser / V_Jet(headloss_jet) / S_Diffuser\n",
    "\n"
   ]
  },
  {
   "cell_type": "markdown",
   "metadata": {},
   "source": [
    "## Jet Reverser"
   ]
  },
  {
   "cell_type": "markdown",
   "metadata": {},
   "source": [
    "There is no design needed for jet reverser. Take 3\" PVC pipe cut in half. Assume the pipe has a SDR of 26."
   ]
  },
  {
   "cell_type": "markdown",
   "metadata": {},
   "source": [
    "## Floc Hopper and floc weir"
   ]
  },
  {
   "cell_type": "markdown",
   "metadata": {},
   "source": [
    "* certain distance Height beneath plate settlers before you get to floc weir\n",
    "* idea: clear water in this Height (H_clearwater) ~10cm ish\n"
   ]
  },
  {
   "cell_type": "markdown",
   "metadata": {
    "collapsed": true
   },
   "source": [
    "<font color=\"red\"> I believe you missed the design of the effluent manifold. Then calculate the entire depth of the sedimentation tank. </font>"
   ]
  }
 ],
 "metadata": {
  "kernelspec": {
   "display_name": "Python 3",
   "language": "python",
   "name": "python3"
  },
  "language_info": {
   "codemirror_mode": {
    "name": "ipython",
    "version": 3
   },
   "file_extension": ".py",
   "mimetype": "text/x-python",
   "name": "python",
   "nbconvert_exporter": "python",
   "pygments_lexer": "ipython3",
   "version": "3.6.1"
  }
 },
 "nbformat": 4,
 "nbformat_minor": 2
}
