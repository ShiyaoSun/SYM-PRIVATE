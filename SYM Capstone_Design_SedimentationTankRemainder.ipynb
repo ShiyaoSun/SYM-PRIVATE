{
 "cells": [
  {
   "cell_type": "markdown",
   "metadata": {},
   "source": [
    "# Capstone Design: Sedimentation Tank Remainder\n",
    "\n",
    "### Team SYM\n",
    "\n",
    "### Shiyao Sun and Melanie Lim"
   ]
  },
  {
   "cell_type": "markdown",
   "metadata": {
    "collapsed": true
   },
   "source": [
    "### Monroe's comments \n",
    "(include this in your next submission so I can verify that you've addressed all of these issues.)\n",
    "<font color=\"red\">  </font>\n",
    "* <font color=\"red\">  Add an introduction explaining the problem that you are solving. The goal is to design a sed tank that can be used in many communities.\n",
    "* Did you review the mathcad file that was used as the previous design? I get the impression that you didn't use that very valuable resource.</font> \n",
    "* Define the problem and explain how you will solve it.</font>\n",
    "* Set this up for working in Python. Define the constants that you already know. You can look in the expert inputs file (see the mathcad source files linked below) to see if there are any other constraints you are missing for the sed tank.\n",
    "* Start with the python code from the sed tank design challenge.\n",
    "For the next submission you will want to have the majority of the sed tank designed. This is a significant challenge. The AIDE team can help specify what level of detail they need to be able to draw the sed tank.\n",
    "\n",
    "It seems that you missed the guidance for this report. See https://confluence.cornell.edu/display/cee4540/DC+Capstone+Design\n",
    "well documented report created in Jupyter with responses to comments received from previous submissions.\n",
    "The report must be formatted to be one page wide and must be organized with text used to introduce and explain equations, images, and design methods.\n",
    "Explain ALL calculations step by step including why you are doing the calculation.\n",
    "Present each equation you use in a markdown cell using beautiful Latex and then follow that with the code cell with the function written in Python.\n",
    "If you need to display results in a table, use a DataFrame to make a nicely formatted result that changes with input parameters.\n",
    "The report must explain why you have made the decisions that you have made.\n",
    "Explain the physics of the problem and how that influences your solution scheme.\n",
    "Explain the constraints \n",
    "Document your sources of information with in text citations and a bibliography.\n",
    "Relevant equations created using Latex and included with the text of the report.\n",
    "Jupyter worksheet must be organized as a stand alone report that can be read and easily understood from beginning to end.\n",
    "Include sketches, drawings, graphs as part of the Jupyter document. Either include any required images and zip all of the files together for submission.\n",
    "Include sketches that show the geometry of your system and make sure that all variables are clearly defined. Write in paragraph format so that your work is easy to understand.\n",
    "Clearly explain which equations you developed and which equations you borrowed from the AguaClara source code.\n",
    "Spell check before submitting and proofread the entire report."
   ]
  },
  {
   "cell_type": "code",
   "execution_count": 1,
   "metadata": {
    "collapsed": true
   },
   "outputs": [],
   "source": [
    "from aide_design.play import*\n",
    "from aide_design import floc_model as floc\n",
    "from pytexit import py2tex\n",
    "import math\n",
    "from aide_design import expert_inputs as exp"
   ]
  },
  {
   "cell_type": "markdown",
   "metadata": {},
   "source": [
    "<div class=\"alert alert-block alert-info\">\n",
    "\n",
    "# <u>Introduction</u>\n",
    "\n",
    "The goal of this Capstone Design challenge is to design a sedimentation tank that can be used in multiple communities. According to given inputs focused on the remainder of the sedimentation tank, the tank dimensions can be calculated using flow equations and functions we have learned throughout this semester.\n"
   ]
  },
  {
   "cell_type": "markdown",
   "metadata": {},
   "source": [
    "## Specify all the assumptions"
   ]
  },
  {
   "cell_type": "code",
   "execution_count": 2,
   "metadata": {
    "collapsed": true
   },
   "outputs": [],
   "source": [
    "# We are experimenting with using head loss at the exit of the diffusers as\n",
    "# a reasonable design constraint for the design of the\n",
    "# inlet manifold/diffuser system. This head loss in the exit of the diffuser\n",
    "# will allow higher velocities (and pressure recovery) in the manifold pipe\n",
    "# and thus will enable use of smaller diameter manifold pipes.\n",
    "# -----\n",
    "# We've set a maximum head loss in the sedimentation tank inlet:\n",
    "headloss_sed_inlet_max = 1 * u.cm\n",
    "\n",
    "# The diffuser pipes used in the sedimentation tank have an SDR of 26.\n",
    "# The manifold used in the sedimentation tank has an SDR of 41.\n",
    "SDR_diffuser = 26\n",
    "SDR_manifold = 41\n",
    "\n",
    "# Pi_jet_plane is used to estimate the maximum energy dissipation rate in a plane jet. \n",
    "# A plane jet is uniform in one dimension. A plane jet can be formed by a long narrow slot.\n",
    "Pi_jet_plane = 0.225\n",
    "\n",
    "# The PVC pipe used to make the inlet manifold\n",
    "L_sed = 6 * u.m\n",
    "\n",
    "# Design temperature will be helpful to calculate viscosity\n",
    "T_design = 15 * u.degC\n",
    "\n",
    "# Upflow velocity at the top of the floc blanket:\n",
    "V_sed_up = 1 * u.mm/u.s\n",
    "\n",
    "# The corrugated plastic sheets used to make the plate settlers:\n",
    "W_sed = (42 * u.inch).to(u.m)\n",
    "thickness_sed_plate = 2 * u.mm\n",
    "\n",
    "# The plate settlers are angled 60° from the horizontal:\n",
    "angle_sed_plate = 60 * u.deg\n",
    "\n",
    "# The plate setters are spaced 2.5cm apart (this is the perpendicular\n",
    "# distance between plates, not the horizontal distance between plates):\n",
    "s_sed_plate = 2.5 * u.cm\n",
    "\n",
    "# Plate settler capture velocity:\n",
    "V_sed_capture = 0.12 * u.mm/u.s\n",
    "\n",
    "# The minimum port flow (from the first port) divided by the maximum port \n",
    "# flow (from the last port) for flow division between sedimentation tanks \n",
    "# and for flow distribution from the inlet manifold should be at least:\n",
    "Q_ratio = 0.8\n",
    "\n",
    "# Assumed stretch of the PVC pipes as they are heated and molded:\n",
    "Pi_PVC_stretch = 1.2\n",
    "\n",
    "# Nominal diameter of the sed tank diffuser\n",
    "ND_sed_diffuser = 1 * u.inch\n",
    "\n",
    "# Assume the minor loss coefficient to be 1\n",
    "K = 1\n",
    "\n",
    "# Assume headloss exiting the tank is 5 cm\n",
    "headloss_exit = 5 * u.cm\n",
    "\n",
    "# Assume Vena contract (VC) is 0.63\n",
    "VC = exp.RATIO_VC_ORIFICE\n",
    "\n",
    "# Assume spacing between orifices in outlet manifold is 10cm\n",
    "spacing_orifices = 10 * u.cm\n",
    "\n",
    "g = pc.gravity"
   ]
  },
  {
   "cell_type": "code",
   "execution_count": null,
   "metadata": {
    "collapsed": true
   },
   "outputs": [],
   "source": []
  },
  {
   "cell_type": "markdown",
   "metadata": {},
   "source": [
    "## Inlet Diffusers"
   ]
  },
  {
   "cell_type": "markdown",
   "metadata": {},
   "source": [
    "We need one function to calculate the width of diffuser and one function to calculate the length of the diffuser.\n",
    "<font color=\"red\"> I'm not sure what constraint sets this length. Shorter is stronger. Longer does a better job of creating a uniform velocity from the diffuser tip, but this likely isn't very significant. For now I'd suggest using a length of 6 inches.\n",
    "\n",
    "You have equations below, but you don't use them for anything. This is true throughout the document. Why aren't there any calculations or design results? You have a design challenge where you designed inlet diffusers. Why not use that as a starting point?\n",
    " </font>"
   ]
  },
  {
   "cell_type": "markdown",
   "metadata": {},
   "source": [
    "$$Vel_{Diffuser,Max}=\\left(\\frac{2\\,Headloss_{SedInlet,Max}\\,g}{K_{Minor}}\\right)^{\\frac{1}{2}}$$"
   ]
  },
  {
   "cell_type": "code",
   "execution_count": 3,
   "metadata": {},
   "outputs": [
    {
     "name": "stdout",
     "output_type": "stream",
     "text": [
      "The width of the diffuser is 0.3175 cm.\n"
     ]
    }
   ],
   "source": [
    "# Find the pipe's outer diameter according to its nominal diameter\n",
    "OD_sed_diffuser = pipe.OD(ND_sed_diffuser)\n",
    "\n",
    "# Find the pipe's inner diameter\n",
    "ID_sed_diffuser = pipe.ID_SDR(ND_sed_diffuser,SDR_diffuser)\n",
    "\n",
    "# Find the area of the PVC\n",
    "Area_pvc = np.pi * (OD_sed_diffuser/2)**2 - np.pi * (ID_sed_diffuser/2)**2\n",
    "\n",
    "# Find the thickness of the diffuser\n",
    "thickness_wall = 1 / Pi_PVC_stretch * (OD_sed_diffuser - ID_sed_diffuser) /2 \n",
    "\n",
    "def Width_diffuser (W_sed, V_sed_up, max_headloss, minorloss_coefficient):\n",
    "    MaxV_diffuser = np.sqrt (2 * g * max_headloss / minorloss_coefficient)\n",
    "    MinInnerW_diffuser = (V_sed_up * W_sed / MaxV_diffuser).to(u.inch)\n",
    "    Available_thickness = np.arange(1/16, MinInnerW_diffuser.magnitude + 1/16 ,1/16)\n",
    "    Width_diffuser = (ut.ceil_nearest(MinInnerW_diffuser.magnitude,Available_thickness))*u.inch\n",
    "    return (Width_diffuser)\n",
    "\n",
    "Width_diffuser = Width_diffuser (W_sed, V_sed_up, headloss_sed_inlet_max,K)\n",
    "print('The width of the diffuser is ' + ut.sig(Width_diffuser.to(u.cm),4) +'.')\n",
    "\n",
    "# Find the outer length of the rectangular diffuser slot\n",
    "B_diffuser = Area_pvc / thickness_wall / 2 - Width_diffuser\n",
    "\n",
    "# Find the inner length of the rectangular diffuser slot\n",
    "S_diffuser = B_diffuser - 2 * thickness_wall\n",
    "Q_diffuser = V_sed_up * W_sed * B_diffuser\n",
    "V_diffuser = Q_diffuser / Width_diffuser / S_diffuser\n",
    "\n"
   ]
  },
  {
   "cell_type": "code",
   "execution_count": 4,
   "metadata": {},
   "outputs": [
    {
     "ename": "SyntaxError",
     "evalue": "invalid syntax (<ipython-input-4-40d55aef25b5>, line 1)",
     "output_type": "error",
     "traceback": [
      "\u001b[0;36m  File \u001b[0;32m\"<ipython-input-4-40d55aef25b5>\"\u001b[0;36m, line \u001b[0;32m1\u001b[0m\n\u001b[0;31m    def Length_diffuser\u001b[0m\n\u001b[0m                       ^\u001b[0m\n\u001b[0;31mSyntaxError\u001b[0m\u001b[0;31m:\u001b[0m invalid syntax\n"
     ]
    }
   ],
   "source": [
    "def Length_diffuser"
   ]
  },
  {
   "cell_type": "markdown",
   "metadata": {},
   "source": [
    "## Inlet Manifold"
   ]
  },
  {
   "cell_type": "markdown",
   "metadata": {},
   "source": [
    "Equations and Sketch"
   ]
  },
  {
   "cell_type": "markdown",
   "metadata": {},
   "source": [
    "$$\\left(\\frac{1 - {\\Pi_{DiffuserFlow}}^{2}}{{\\Pi_{DiffuserFlow}}^{2} + 1} \\right) {hl}_{ParallelPath} = \\frac{{{Velocity}_{Manifold}}^{2}}{4g}$$"
   ]
  },
  {
   "cell_type": "code",
   "execution_count": null,
   "metadata": {},
   "outputs": [],
   "source": [
    "def ND_inlet_manifold(L_sed, W_sed, V_Upflow, V_diffuser, SDR_manifold, Q_ratio):\n",
    "    hl = V_diffuser **2 / 2 / pc.gravity\n",
    "    max_velocity =  ((1-Q_ratio **2)/(Q_ratio**2+1) * hl * 4 * pc.gravity) ** (1/2) \n",
    "    Q_sed = L_sed * W_sed * V_Upflow\n",
    "    Min_ID_manifold =((Q_sed / max_velocity) / math.pi * 4) ** (1/2)\n",
    "    return (pipe.ND_SDR_available(Min_ID_manifold, SDR_manifold))\n",
    "\n",
    "ND_inlet_manifold = ND_inlet_manifold(L_sed, W_sed, V_sed_up, V_diffuser, SDR_manifold, Q_ratio)\n",
    "print('The nominal diameter of the inlet manifold is ' + ut.sig(ND_inlet_manifold.to(u.cm),4) +'.')"
   ]
  },
  {
   "cell_type": "markdown",
   "metadata": {},
   "source": [
    "## Plate Settlers"
   ]
  },
  {
   "cell_type": "markdown",
   "metadata": {},
   "source": [
    "$$L = \\frac{{S\\left( {\\frac{{{V_{Plate \\uparrow }}}}{{{V_c}}} - 1} \\right)+ T \\frac{V_{Plate \\uparrow }}{V_C} }} {{\\sin \\alpha \\cos \\alpha }}$$"
   ]
  },
  {
   "cell_type": "code",
   "execution_count": null,
   "metadata": {
    "collapsed": true
   },
   "outputs": [],
   "source": [
    "def Len_sed_plate(V_Upflow, V_Capture, Spacing_Settlers, Angle_sed_plate, Thickness_sed_plate):\n",
    "    # Return the length of the plate settlers\n",
    "    Top = Spacing_Settlers * (V_Upflow / V_Capture -1) + Thickness_sed_plate * (V_Upflow / V_Capture)\n",
    "    Bottom = math.cos(Angle_sed_plate) * math.sin(Angle_sed_plate)\n",
    "    Len_sed_plate = Top / Bottom\n",
    "    return Len_sed_plate.to(u.cm)\n",
    "\n",
    "def Vertical_Height_plate(V_Upflow, V_Capture, Spacing_Settlers, Angle_sed_plate, Thickness_sed_plate):\n",
    "    # Return the vertical length of the plate settlers\n",
    "    len_sed_plate = Len_sed_plate(V_Upflow, V_Capture, Spacing_Settlers, Angle_sed_plate, Thickness_sed_plate)\n",
    "    return len_sed_plate * math.sin(Angle_sed_plate)\n",
    "\n",
    "sed_plate_length = Len_sed_plate(V_sed_up, V_sed_capture, s_sed_plate, angle_sed_plate, thickness_sed_plate)\n",
    "sed_plate_vertical_height = Vertical_Height_plate(V_sed_up, V_sed_capture, s_sed_plate, angle_sed_plate, thickness_sed_plate)\n",
    "\n",
    "print('The required length of the plate settlers is ' + ut.sig(sed_plate_length.to(u.cm),4) +'.')\n",
    "print('The vertical height of the plate settlers is ' + ut.sig(sed_plate_vertical_height.to(u.cm),4) + '.')"
   ]
  },
  {
   "cell_type": "markdown",
   "metadata": {},
   "source": [
    "\n",
    "<br>\n",
    "\n",
    "* <font color=\"red\"> Include definition sketch showing dimensions with variable names.\n",
    "* Calculate the effect of the wasted space at the end of the plate settlers.\n",
    "* Show the equations that you use in Latex. Perhaps don't need all equations, but key equations should be shown.\n",
    "</font>\n"
   ]
  },
  {
   "cell_type": "markdown",
   "metadata": {},
   "source": [
    "## Outlet Manifold (Effluent Launder)"
   ]
  },
  {
   "cell_type": "markdown",
   "metadata": {},
   "source": [
    "* (Diameter of) Outlet manifold (Effluent Launder) same inputs as Inlet manifold\n",
    "* Function of (L_sed, W_Sed, V_up, Q_ratio, h_L_flowcontrol)\n",
    "* Headloss flow control (for water leaving the sed tank) = 5 cm\n",
    "* Outlet manifold system^\n",
    "* Big enough so that the decrease in speed through inlet channel doesn’t matter\n",
    "\n"
   ]
  },
  {
   "cell_type": "code",
   "execution_count": null,
   "metadata": {},
   "outputs": [],
   "source": [
    "def ND_outlet_manifold(L_sed, W_sed, V_Upflow, SDR_manifold, Q_ratio, headloss_exit):\n",
    "    max_velocity =  ((1-Q_ratio **2)/(Q_ratio**2+1) * headloss_exit * 4 * pc.gravity) ** (1/2) \n",
    "    Q_sed = L_sed * W_sed * V_Upflow\n",
    "    Min_ID_manifold =((Q_sed / max_velocity) / math.pi * 4) ** (1/2)\n",
    "    return (pipe.ND_SDR_available(Min_ID_manifold, SDR_manifold))\n",
    "\n",
    "ND_outlet_manifold = ND_outlet_manifold(L_sed, W_sed, V_sed_up, SDR_manifold, Q_ratio,headloss_exit)\n",
    "print('The nominal diameter of the outlet manifold is ' + ut.sig(ND_outlet_manifold.to(u.cm),4) +'.')\n",
    "    "
   ]
  },
  {
   "cell_type": "markdown",
   "metadata": {},
   "source": [
    "## Orifices "
   ]
  },
  {
   "cell_type": "markdown",
   "metadata": {},
   "source": [
    "* Orifices a function of (spacing between holes, headloss_orifice)\n",
    "* Headloss_orifice = headloss_total - h_L_manifold ← changed his mind\n",
    "* Headloss_orifice = 4 cm\n",
    "* Spacing = 10 cm\n"
   ]
  },
  {
   "cell_type": "code",
   "execution_count": null,
   "metadata": {},
   "outputs": [],
   "source": [
    "def Diam_Orifices (L_sed, W_sed, V_Upflow, spacing_orifices, headloss_exit, headloss_sed_inlet_max, RatioVCorifice):\n",
    "    headloss_orifice = headloss_exit - headloss_sed_inlet_max\n",
    "    num_orifices = L_sed / spacing_orifices\n",
    "    headloss_perorifice = headloss / num_orifices\n",
    "    Q_sed = L_sed * W_sed * V_Upflow\n",
    "    Area_orifice = Q_sed / (RatioVCorifice * (headloss_perorifice* 2* g)**(1/2))\n",
    "    return (4 / pi * Area_orifice) **(1/2)\n",
    "\n",
    "Diam_Orifices = Diam_Orifices (L_sed, W_sed, V_sed_up,spacing_orifices, headloss_exit, headloss_sed_inlet_max, VC)\n",
    "print('The diameter of the orifice is '+ut.sig(Diam_Orifices.to(u.cm),4)+'.')\n",
    "\n",
    "    \n",
    "    "
   ]
  },
  {
   "cell_type": "code",
   "execution_count": null,
   "metadata": {
    "collapsed": true
   },
   "outputs": [],
   "source": []
  }
 ],
 "metadata": {
  "kernelspec": {
   "display_name": "Python 3",
   "language": "python",
   "name": "python3"
  },
  "language_info": {
   "codemirror_mode": {
    "name": "ipython",
    "version": 3
   },
   "file_extension": ".py",
   "mimetype": "text/x-python",
   "name": "python",
   "nbconvert_exporter": "python",
   "pygments_lexer": "ipython3",
   "version": "3.6.1"
  }
 },
 "nbformat": 4,
 "nbformat_minor": 2
}
