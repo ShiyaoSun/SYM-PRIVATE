{
 "cells": [
  {
   "cell_type": "markdown",
   "metadata": {},
   "source": [
    "# Capstone Design: Sedimentation Tank Remainder"
   ]
  },
  {
   "cell_type": "markdown",
   "metadata": {},
   "source": [
    "Important constraints:\n",
    "- Physical size of sedimentation tank\n",
    "- Amount of materials and cost of construction\n",
    "- Timing of floc settlement in the tank\n",
    "- Geographic placement of sed tank\n",
    "- Upflow velocity in the floc blanket\n",
    "- Capture velocity\n",
    "- Design flow rate\n",
    "- Plate settler spacing and width\n",
    "- Minimum depth of the floc blanket\n",
    "- Head loss through orifices in the effluent manifold\n",
    "\n",
    "Operator/User Specifications:\n",
    "- Intended dimensions of tank\n",
    "- Inflow data (fluid temperature, turbidity, capture velocity)\n",
    "\n",
    "Major Design Alternatives:\n",
    "- Vertical flow sedimentation tank\n",
    "- Horizontal flow sed tank\n",
    "\n",
    "Project Strategy:\n",
    "We plan to focus on the process of a vertical flow sedimentation tank based on the lecture notes. According to the specifications given from the operator/user, we will utilize flow equations discussed in class to create functions that will be applied to the outputted fluid from the remained sed tank. "
   ]
  },
  {
   "cell_type": "code",
   "execution_count": null,
   "metadata": {
    "collapsed": true
   },
   "outputs": [],
   "source": []
  }
 ],
 "metadata": {
  "kernelspec": {
   "display_name": "Python 3",
   "language": "python",
   "name": "python3"
  },
  "language_info": {
   "codemirror_mode": {
    "name": "ipython",
    "version": 3
   },
   "file_extension": ".py",
   "mimetype": "text/x-python",
   "name": "python",
   "nbconvert_exporter": "python",
   "pygments_lexer": "ipython3",
   "version": "3.6.1"
  }
 },
 "nbformat": 4,
 "nbformat_minor": 2
}
