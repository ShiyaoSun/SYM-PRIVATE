{
 "cells": [
  {
   "cell_type": "markdown",
   "metadata": {},
   "source": [
    "# Flow Control and Measurement\n",
    "1.\tDo not use a numerical or iterative solution when an analytical solution is easily available.\n",
    "2.\tWhenever a function has the potential to be used multiple times, create a function call that includes the parameters that could potentially change.\n",
    "3.\tDo not break dependency. That means that if I change an input parameter at the top of your notebook, that I should get the correct answers for the new parameter for all related calculations in the notebook.\n",
    "4.\tAlways use dimensions (units). All calculations involving physical units must include those units.\n",
    "5.\tDocument your design process with comments.\n",
    "6.  Do not redefine your variables in subsequent problems. This loses valulable digits of precision on your numbers and can cause a lot of trouble and frustration.\n",
    "\n",
    "\n",
    "## A brief Design Challenge guide\n",
    "1.  Read the Problem statement in its entirety before beginning. If you don't immediately know what to do, read it again, thoroughly. If you are getting stuck, read it a third time. If you have a good understanding of what the problem is asking and are still having trouble, TAs can help through email or office hours.\n",
    "2.  If you decide to email a TA, make sure the other two are CC'ed. This minimizes the time you will have to wait until one responds.\n",
    "3.  When in doubt, Kernal -> Restart & Run All\n",
    "4.  Play around! Print arrays, test inputs, and ask yourself if your answers are reasonable. Should flow have units of km*mg/s?\n",
    "5.  Make sure to review convention and syntax standards, which can be found here: \n",
    "    * [Standards Page](https://github.com/AguaClara/aide_design/wiki/Standards) for naming standards.\n",
    "    * [Variable Naming Guide](https://github.com/AguaClara/aide_design/wiki/Variable-Naming) for creating variable names. "
   ]
  },
  {
   "cell_type": "markdown",
   "metadata": {},
   "source": [
    "<div class=\"alert alert-block alert-danger\">\n",
    "\n",
    "Before you begin this assignment, you must download the lastest version of aide_design. Follow the instructions on the 4540 Wiki, step 4 at the bottom of the [Anaconda](https://confluence.cornell.edu/display/cee4540/Anaconda) subpage. \n",
    "\n"
   ]
  },
  {
   "cell_type": "code",
   "execution_count": 1,
   "metadata": {
    "collapsed": true
   },
   "outputs": [],
   "source": [
    "#Here we import all of the packages that we will be using for this design challenge\n",
    "\n",
    "#import math\n",
    "\n",
    "#from scipy import constants, interpolate\n",
    "\n",
    "import numpy as np\n",
    "\n",
    "#import pandas as pd\n",
    "\n",
    "import matplotlib.pyplot as plt\n",
    "\n",
    "from aide_design import physchem as pc\n",
    "\n",
    "from aide_design import expert_inputs as exp\n",
    "\n",
    "from aide_design import utility as ut\n",
    "\n",
    "from aide_design.units import unit_registry as u\n",
    "\n",
    "from aide_design.unit_process_design.prefab import lfom_prefab_functional as lfom"
   ]
  },
  {
   "cell_type": "markdown",
   "metadata": {},
   "source": [
    "# Vertical orifice equation\n",
    "\n",
    "### 1)\n",
    "Find the vena contract (VC) coefficient ratio for an orifice in the expert_inputs and print the result in a sentence. Please display 2 significant figures."
   ]
  },
  {
   "cell_type": "code",
   "execution_count": null,
   "metadata": {},
   "outputs": [],
   "source": []
  },
  {
   "cell_type": "markdown",
   "metadata": {},
   "source": [
    "### 2)\n",
    "The simple orifice equation $Q = {\\Pi _{vc}}{A_{or}}\\sqrt {2g\\Delta h}$  that we normally use is not applicable for vertically oriented orifices that are partially or barely submerged. The [USGS published a great solution](https://il.water.usgs.gov/proj/feq/fequtl98.i2h/4_7aupdate.html) for flow through partially submerged vertically oriented orifices. AguaClara uses a general solution for a vertically oriented orifice, which is available in the physchem file as `pc.flow_orifice_vert`. That function handles vertically oriented orifices even if they are only partially submerged. \n",
    "\n",
    "The vertical orifice equation is based on the concept that the velocity through the orifice at any point is equal to $\\sqrt{2gh}$, where h is the local depth of submergence. The total flow can be obtained by integration of that velocity over the submerged area of the orifice.\n",
    "\n",
    "For this question, you will create a well formatted graph with two curves to display flow rate through a 5 cm diameter orifice oriented **vertically and horizontally**. \n",
    "\n",
    "We want to be able to describe the height of the water in the orifice as relative to the orifice diameter size. The relationship between velocity and orifice diameter is true for orifices of any size, so it is valuable to create a nondimensional model that can be understood for all diameters. The flow rate that you will use for this question is as a function of the normalized depth of water from 1 diameter below the center of the orifice to 2 diameters above the center of the orifice. \n",
    "\n",
    "The steps for making the graph are as follows: \n",
    "\n",
    "  - Use `np.linspace` to generate an array of 100 dimensionless water surface elevations. The surface elevations should be normalized (also referred to as nondimensionalized) by the diameter of the orifice, and should range from -1 to 2 orifice diameters. \n",
    "  - Create a second array for water elevation (with units) by multiplying the normalized water elevation array by the orifice diameter. \n",
    "  - Create two arrays of flow rates through the orifice: one for the horizontal orifice orientation and one for the vertical orifice orientation. Use the two orifice equations `pc.flow_orifice` and `pc.flow_orifice_vert` in the physchem file, with orifice diamater and the dimensional water elevation array you created as inputs.  \n",
    "  - Plot the curves for vertical and horizontal orifice flow in L/s as a funtion of the normalized height of water.\n",
    "  - Label the graph with flow rate in L/s as the y-axis and with normalized water elevation above the center of the orifice as the x-axis.\n",
    "  - Include a legend for the two curves."
   ]
  },
  {
   "cell_type": "code",
   "execution_count": null,
   "metadata": {
    "scrolled": false
   },
   "outputs": [],
   "source": []
  },
  {
   "cell_type": "markdown",
   "metadata": {},
   "source": [
    "### 3)\n",
    "Write a paragraph about what the graph means by explaining the following two items:\n",
    "  - Explain why the vertical orifice equation predicts more flow when the water level is below the center of the orifice and predicts less flow when the water level is above the center of the orifice. It might help to draw a picture of what the equations are describing to understand what is happening here! \n",
    "  - Explain how the horizontal orifice equation function from `physchem.py` predicts the flow rate for submergence depths that are negative. You will need to find the function and look at the code. "
   ]
  },
  {
   "cell_type": "markdown",
   "metadata": {
    "collapsed": true
   },
   "source": [
    "### Explanation:\n"
   ]
  },
  {
   "cell_type": "markdown",
   "metadata": {},
   "source": [
    "# Linear Flow Orifice Meter (LFOM)\n",
    "A linear flow orifice meter is used in AguaClara plants to measure the plant flow rate and to provide  a linear relationship between flow rate and the depth of water in the entrance tank. Below, we use the LFOM code to obtain a design for a linear flow orifice meter. Your task will be to test this design using the orifice equations to see if it is correct. "
   ]
  },
  {
   "cell_type": "code",
   "execution_count": 2,
   "metadata": {},
   "outputs": [
    {
     "name": "stdout",
     "output_type": "stream",
     "text": [
      "The nominal diameter of the LFOM is 10 in.\n",
      "The orifice diameter is 15 mm.\n",
      "The number of orifices in each row is\n",
      "[ 43.  43.  14.  15.  13.  12.  11.  11.   9.  10.]\n",
      "The height of the center of the orifices measured from the LFOM datum, the bottom of the bottom row of orifices, is\n",
      "[  0.75   2.75   4.75   6.75   8.75  10.75  12.75  14.75  16.75  18.75] centimeter\n"
     ]
    }
   ],
   "source": [
    "#target flow rate that the LFOM should deliver at maximum water height\n",
    "Flow = 31*u.L/u.s\n",
    "\n",
    "#height range for the LFOM measured from the bottom of the first row of orifices.\n",
    "HeadlossLfom = 20*u.cm\n",
    "\n",
    "#Safety factor that insures that the LFOM pipe doesn't completely fill with water at the bottom row of orifices. \n",
    "#This factor is the ratio of the pipe area to the area required to contain all of the falling water. \n",
    "RatioLfomSafety = 1.2\n",
    "\n",
    "#We will use a pipe with a relatively low SDR so that it has a thick wall to handle the many perforations.\n",
    "SdrLfom = 26\n",
    "\n",
    "#The DrillBits array is an array with the available drill bits (or hole saws) that can be used to create the orificies. \n",
    "#Here we assume that we only have a very limited set of drill bits.\n",
    "DrillBits = np.arange(5, 25, 5)*u.mm\n",
    "\n",
    "#Here we use the LFOM functions to get the key parameters that define an LFOM.\n",
    "NdLfom = lfom.nom_diam_lfom_pipe(Flow, HeadlossLfom, RatioLfomSafety, SdrLfom)\n",
    "OrificeDiam = lfom.orifice_diameter(Flow, HeadlossLfom, DrillBits)\n",
    "LfomOrificeArray = lfom.n_lfom_orifices(Flow, HeadlossLfom, DrillBits, SdrLfom)\n",
    "HeightLfomOrifices = lfom.height_lfom_orifices(Flow, HeadlossLfom, DrillBits)\n",
    "\n",
    "print('The nominal diameter of the LFOM is ' + ut.sig(NdLfom,1)+'.')\n",
    "print('The orifice diameter is ' + ut.sig(OrificeDiam,2)+'.')\n",
    "print('The number of orifices in each row is')\n",
    "print(LfomOrificeArray)\n",
    "print('The height of the center of the orifices measured from the LFOM datum, the bottom of the bottom row of orifices, is')\n",
    "print(HeightLfomOrifices.to(u.cm))\n"
   ]
  },
  {
   "cell_type": "markdown",
   "metadata": {},
   "source": [
    "### 4)\n",
    "**Create a function** that calculates the flow rate through the LFOM as a function of only water elevation using the vertical orifice function. Use the arrays for LFOM key parameters, given above as `NdLfom`, `OrificeDiam`, `LfomOrificeArray`, and `HeightLfomOrifices`. \n",
    "\n",
    "- Create an array for depth of submergence for each row of orifices at a given a height of water in the LFOM. This array is dependent on the water elevation (which should be your function input) and the height of the LFOM orifices (which is from the LFOM key parameters). Use this submergence depth array as the \"height\" input to your vertical orifice function. The array should be created within your function.\n",
    "\n",
    "- To calculate the flow rate through the LFOM, multiply the calculated flow for each row of orifices by the number of orifices in that row (`LfromOrificeArray`) to get an array of flows through each row of orifices. Note: the vertical orifice function will report zero flow for any orifices that aren't submerged, so you can send the whole array of depth of submergence for each row of orifices.\n",
    "\n",
    "- At the end of your function, sum flows from each row of the LFOM and return that value with the correct units.\n",
    "\n",
    "- Add a comment under the function definition to explain what the function does (see any of the aide design files for examples of descriptive comments). "
   ]
  },
  {
   "cell_type": "code",
   "execution_count": null,
   "metadata": {
    "collapsed": true
   },
   "outputs": [],
   "source": []
  },
  {
   "cell_type": "markdown",
   "metadata": {},
   "source": [
    "### 5)\n",
    "Calculate the total flow through the LFOM using the vertical orifice equation for the case when the water level is at the maximum water level for the LFOM, `HeadlossLfom`. You are checking to make sure that the LFOM produces the correct target flow (given as `Flow`) at the maximum height. Does it? "
   ]
  },
  {
   "cell_type": "code",
   "execution_count": null,
   "metadata": {},
   "outputs": [],
   "source": []
  },
  {
   "cell_type": "markdown",
   "metadata": {},
   "source": [
    "### 6)\n",
    "We want to compare the actual flow rate through the LFOM to the expected flow rate through the elevation as a function of water depth. Create a graph of the normalized actual and expected flow rates, using the following steps:\n",
    "\n",
    "- Create an 100-unit long array of water depths using `np.linspace`. Note: the expected flow rate at elevation zero is zero, which makes the normalized flow rate undefined for zero elevation. An undefined normalized flow will not run and Python will report an error. You can solve this by beginning your water depth array at a very small (nonzero) elevation. You can end your water depth array at the maximum water depth. Recall that an array of elevations should have units of length.\n",
    "- Create an array of normalized actual flow rates at each water depth; use the function you created in Problem 4 and a `for` loop (the function you created in Problem 4 probably can't handle an array of depths as input, so you need the `for` loop to cycle through each depth value to make your array of flows).     \n",
    "    - Start by creating an empty array for actual flow rates that is the same shape as the 100-unit water depth array you just created.\n",
    "    - In your `for` loop, normalize the actual flow rates by using the following relationship: normalized actual flow rate = (actual flow rate)/[(water depth)/(maximum water level * target flow rate)]\n",
    "    \n",
    "- Plot a straight horizontal line at y = 1, which is your normalized expected flow value if the LFOM were perfect."
   ]
  },
  {
   "cell_type": "code",
   "execution_count": null,
   "metadata": {},
   "outputs": [],
   "source": []
  },
  {
   "cell_type": "markdown",
   "metadata": {},
   "source": [
    "### 7)\n",
    "Play with the value for the plant flow rate, `Flow`, at the top of the cell above Problem 4 by trying a bunch of different flows over the range 1 to 100 L/s. Comment on something that you notice and that you think could be improved in the design of the LFOM. "
   ]
  },
  {
   "cell_type": "markdown",
   "metadata": {},
   "source": [
    "### Comments:"
   ]
  },
  {
   "cell_type": "markdown",
   "metadata": {},
   "source": [
    "### 8)\n",
    "Describe at least two failure modes where the design produces very inaccurate flow measurements. "
   ]
  },
  {
   "cell_type": "markdown",
   "metadata": {},
   "source": [
    "### Insert Failures Here:\n"
   ]
  },
  {
   "cell_type": "markdown",
   "metadata": {},
   "source": [
    "### 9)\n",
    "Explain why all LFOMs perform poorly when the water depth is in the first row of orifices."
   ]
  },
  {
   "cell_type": "markdown",
   "metadata": {},
   "source": [
    "### Explanation:"
   ]
  },
  {
   "cell_type": "markdown",
   "metadata": {},
   "source": [
    "### 10)\n",
    "Explain why all of the bottom several rows have the same number of orifices for flows about 30 L/s. (Hint: What constrains the maximum number of orifices that can be in a row?)"
   ]
  },
  {
   "cell_type": "markdown",
   "metadata": {},
   "source": [
    "### Explanation:"
   ]
  },
  {
   "cell_type": "markdown",
   "metadata": {},
   "source": [
    "# Laminar Flow Based Flow Controller\n",
    "\n",
    "You will design (by completing the following questions) a laminar flow controller for chlorine feed for a plant design flow rate of 50 L/s. \n",
    "\n",
    "For the following steps do NOT use the aide_design.cdc code. Instead, create the functions that you need to solve this problem. At the end, we will compare your solution to the aide_design.cdc solution.\n",
    "\n",
    "You may assume that the chlorine stock solution kinematic viscosity is approximately the same as water. The dose controller is to have a maximum head loss of 20 cm through the dosing tubes. We will start with commercially available liquid bleach (equivalent to 51.4 gm/L of chlorine gas), which we will use in our chemical stock tanks without dilution. Our goal is to provide a constant chlorine dose of 2 mg/L to the water entering the storage tank. We will be following the guidelines given below. \n",
    "\n",
    "- Calculate the maximum fow rate through each available dosing tube diameter that keeps error due to minor losses below 10%. \n",
    "\n",
    "- Calculate the total chemical flow rate that would be required by the treatment system for the maximum chemical dose and the maximum allowable stock concentration. \n",
    "\n",
    "- Calculate the number of dosing tubes required if the tubes flow at maximum capacity (round up). \n",
    "\n",
    "- Calculate the length of the dosing tubes that correspond to each available tube diameter. \n",
    "\n",
    "- Select the longest dosing tube that is shorter than the maximum tube length allowable based on geometric constraints. \n",
    "\n",
    "- Select the dosing tube diameter, flow rate, and stock concentration corresponding to the selected tube length. "
   ]
  },
  {
   "cell_type": "code",
   "execution_count": 3,
   "metadata": {
    "collapsed": true
   },
   "outputs": [],
   "source": [
    "FlowPlant = 50*u.L/u.s\n",
    "T = u.Quantity(20,u.degC)\n",
    "NuBleach = pc.viscosity_kinematic(T)\n",
    "HeadlossDosingTubeMax = 20*(u.cm)\n",
    "StockCl2 = 51.4*(u.gram/u.L)\n",
    "DoseCl2 = 2*(u.mg/u.L)\n",
    "RatioError = 0.1\n",
    "KMinor = 2"
   ]
  },
  {
   "cell_type": "markdown",
   "metadata": {
    "collapsed": true
   },
   "source": [
    "### 11)\n",
    "At the given water treatment plant design flow rate, what is the required flow of bleach (the chlorine stock solution)?"
   ]
  },
  {
   "cell_type": "code",
   "execution_count": null,
   "metadata": {},
   "outputs": [],
   "source": []
  },
  {
   "cell_type": "markdown",
   "metadata": {},
   "source": [
    "### 12)\n",
    "How many liters of liquid bleach are required in one day? (you can simply change the units on the flow rate!)"
   ]
  },
  {
   "cell_type": "code",
   "execution_count": null,
   "metadata": {},
   "outputs": [],
   "source": []
  },
  {
   "cell_type": "markdown",
   "metadata": {},
   "source": [
    "### 13)\n",
    "Our next big goal is to choose a tubing size for the dosing tube (or tubes). This requires multiple steps. Begin by first creating a numpy array of tubing sizes between 1/16\"  and 5/16\" with a 1/16\" interval. Your list should contain 5 elements. Does `np.linspace` work here? What about `np.arange`?"
   ]
  },
  {
   "cell_type": "code",
   "execution_count": null,
   "metadata": {},
   "outputs": [],
   "source": []
  },
  {
   "cell_type": "markdown",
   "metadata": {},
   "source": [
    "### 14)\n",
    "What is the maximum average velocity in a dosing tube based on the constraint that minor losses must be small? This means that the minor losses account for `RatioError` fraction of the total losses (10% when `RatioError` is 0.1). Note that this velocity is independent of the tube diameter."
   ]
  },
  {
   "cell_type": "code",
   "execution_count": null,
   "metadata": {},
   "outputs": [],
   "source": []
  },
  {
   "cell_type": "markdown",
   "metadata": {},
   "source": [
    "### 15)\n",
    "What is the head loss due to minor losses in the tube when the tube is flowing at maximum capacity? Solve for this value algebraically by substituting your equation for the velocity in the tube into the minor loss equation and then calculate the value."
   ]
  },
  {
   "cell_type": "code",
   "execution_count": null,
   "metadata": {},
   "outputs": [],
   "source": []
  },
  {
   "cell_type": "markdown",
   "metadata": {},
   "source": [
    "### 16)\n",
    "Create an array of the maximum flow rates corresponding to the array of tubing diameters. The flow rates must meet the error constraint.\n",
    "$$Q_{Max} = \\frac{\\pi D^2}{4}\\sqrt{\\frac{2h_{L}g \\Pi_{error}}{\\sum K_{e}}}$$\n",
    "\n",
    "* First, create a function that uses diameter and maximum headloss as inputs to return flow rate. Note that `pc.area_circle(diam)` returns a circle's area given its diameter, and you have already calculated the maximum average velocity in Problem 14.\n",
    "* Create the array of maximum flow rates using the array of tubing diamaters and the maximum headloss through the dosing tubes. "
   ]
  },
  {
   "cell_type": "code",
   "execution_count": null,
   "metadata": {},
   "outputs": [],
   "source": []
  },
  {
   "cell_type": "markdown",
   "metadata": {},
   "source": [
    "### 17) \n",
    "Find the minimum number of tubes for each of the available tube diameters that would be required to deliver the maximum flow of bleach."
   ]
  },
  {
   "cell_type": "code",
   "execution_count": null,
   "metadata": {},
   "outputs": [],
   "source": []
  },
  {
   "cell_type": "markdown",
   "metadata": {},
   "source": [
    "### 18) \n",
    "Create an array of the maximum flow rate per tube for each of the available tubing diameters, given the number of tubes that would be used. This will be the flow through each dosing tube at the maximum flow of bleach."
   ]
  },
  {
   "cell_type": "code",
   "execution_count": null,
   "metadata": {},
   "outputs": [],
   "source": []
  },
  {
   "cell_type": "markdown",
   "metadata": {},
   "source": [
    "### 19)\n",
    "We now know the target flow in the dosing tubes, the diameter of the tubes, and the target head loss through the tubes. Thus, we can solve for the length of the tube that will deliver that target flow.\n",
    "Write a function to find the length of each tube that could handle the entire flow. Your function should use the following equation:\n",
    "$$L = \\frac{g h_{L}\\pi D^4}{128 \\nu Q_{Max}}-\\frac{Q_{Max}}{16 \\pi \\nu}\\sum K_{e}$$\n",
    "\n",
    "Call your function to return the length of tubing required for each tube size. "
   ]
  },
  {
   "cell_type": "code",
   "execution_count": null,
   "metadata": {},
   "outputs": [],
   "source": []
  },
  {
   "cell_type": "markdown",
   "metadata": {},
   "source": [
    "### 20)\n",
    "Which option do you think is best? You can simply set the array index to your choice and then display your solution by using that index value on your arrays for number of tubes, flow rates, tube diameters, and length of tubes."
   ]
  },
  {
   "cell_type": "code",
   "execution_count": null,
   "metadata": {},
   "outputs": [],
   "source": []
  },
  {
   "cell_type": "markdown",
   "metadata": {},
   "source": [
    "### 21)\n",
    "What physical constraints might you use to select the best solution? How did you make your selection in Problem 19?"
   ]
  },
  {
   "cell_type": "markdown",
   "metadata": {},
   "source": [
    "### Constraints and Explanation:\n"
   ]
  },
  {
   "cell_type": "markdown",
   "metadata": {},
   "source": [
    "### 22)\n",
    "AguaClara has coded these dosing tube size functions in the CDC Functions (cdc_functions). Find the function calls for the length, diameter, and number of dosing tubes and use those functions to calculate the values for the problem that you solved above. Compare your answers. Your answers should agree!"
   ]
  },
  {
   "cell_type": "code",
   "execution_count": 4,
   "metadata": {
    "collapsed": true
   },
   "outputs": [],
   "source": [
    "from aide_design import cdc_functions as cdc\n",
    "\n",
    "#The cdc functions file has an enumerated list for different checmials to obtain the correct kinematic viscosity.\n",
    "# 0 is Alum, 1 is PACl, 2 is water/chlorine\n",
    "\n",
    "EnChem = 2\n",
    "\n",
    "#see the \n",
    "#viscosity_kinematic_chem(conc_chem, temp, en_chem):\n",
    "#to see how EnChem is used."
   ]
  },
  {
   "cell_type": "code",
   "execution_count": 5,
   "metadata": {},
   "outputs": [],
   "source": [
    "# The maximum tube length constraint might be based on the length of the available wall where the \n",
    "# dosing tube will be mounted. You might change this depending on which solution \n",
    "# you picked in step 20. Here the wall length is LengthTubeMax.\n",
    "\n",
    "LengthTubeMax = 5*u.m\n",
    "\n",
    "#---------------------------------------------------------------------------------------------------------------------------\n",
    "#-------------------------------------------------DO PROBLEM 22 BELOW-------------------------------------------------------\n",
    "#---------------------------------------------------------------------------------------------------------------------------"
   ]
  }
 ],
 "metadata": {
  "kernelspec": {
   "display_name": "Python 3",
   "language": "python",
   "name": "python3"
  },
  "language_info": {
   "codemirror_mode": {
    "name": "ipython",
    "version": 3
   },
   "file_extension": ".py",
   "mimetype": "text/x-python",
   "name": "python",
   "nbconvert_exporter": "python",
   "pygments_lexer": "ipython3",
   "version": "3.6.1"
  }
 },
 "nbformat": 4,
 "nbformat_minor": 2
}
