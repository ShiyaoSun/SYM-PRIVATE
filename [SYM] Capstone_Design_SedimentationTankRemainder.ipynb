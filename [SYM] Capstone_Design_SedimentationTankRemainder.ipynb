{
 "cells": [
  {
   "cell_type": "markdown",
   "metadata": {},
   "source": [
    "# Capstone Design: Sedimentation Tank Remainder"
   ]
  },
  {
   "cell_type": "markdown",
   "metadata": {
    "collapsed": true
   },
   "source": [
    "### Monroe's comments \n",
    "(include this in your next submission so I can verify that you've addressed all of these issues.)\n",
    "\n",
    "* Add the team name under the title.\n",
    "* Add the names of the students who are writing this report under the team name.\n",
    "* Add an introduction explaining the problem that you are solving. The goal is to design a sed tank that can be used in many communities. \n",
    "* Define the problem and explain how you will solve it.\n",
    "* Set this up for working in Python. Define the constants that you already know. You can look in the expert inputs file (see the mathcad source files linked below) to see if there are any other constraints you are missing for the sed tank.\n",
    "* Start with the python code from the sed tank design challenge.\n",
    "\n",
    "We don't have a minimum depth of the sed tank. Instead you add up the required depths for each of the components to get the total depth.\n",
    "\n",
    "The operator can't give the intended dimensions of the tank. Your design will provide those dimensions. \n",
    "Influent turbidity might be interesting, but we don't currently have a way to use that to improve the sed tank design. Remember that a water treatment plant must be able to treat water with a very wide range of contaminant concentrations.\n",
    "\n",
    "I've [zipped the Mathcad code](http://designserver.cee.cornell.edu/aguaclaracode/AguaClaraCodeCompact.zip) for your use. Try the SedTank.xmcd inside the ADT designs. I believe you can use mathcad in computers in Carpenter.\n",
    "\n",
    "For the next submission you will want to have the majority of the sed tank designed. This is a significant challenge. The AIDE team can help specify what level of detail they need to be able to draw the sed tank."
   ]
  },
  {
   "cell_type": "code",
   "execution_count": 1,
   "metadata": {
    "collapsed": true
   },
   "outputs": [],
   "source": [
    "from aide_design.play import*"
   ]
  },
  {
   "cell_type": "markdown",
   "metadata": {},
   "source": [
    "Important constraints:\n",
    "- Physical size of sedimentation tank\n",
    "- Amount of materials and cost of construction\n",
    "- Timing of floc settlement in the tank\n",
    "- Geographic placement of sed tank\n",
    "- Upflow velocity in the floc blanket\n",
    "- Capture velocity\n",
    "- **Design flow rate**\n",
    "- Plate settler spacing and width\n",
    "- Minimum depth of the floc blanket\n",
    "- Head loss through orifices in the effluent manifold\n",
    "\n",
    "Operator/User Specifications:\n",
    "- Intended dimensions of tank\n",
    "- Inflow data (fluid temperature, turbidity, capture velocity)\n",
    "\n",
    "Major Design Alternatives:\n",
    "- Vertical flow sedimentation tank\n",
    "- Horizontal flow sed tank\n",
    "\n",
    "Project Strategy:\n",
    "We plan to focus on the process of a vertical flow sedimentation tank based on the lecture notes. According to the specifications given from the operator/user, we will utilize flow equations discussed in class to create functions that will be applied to the outputted fluid from the remained sed tank. "
   ]
  }
 ],
 "metadata": {
  "kernelspec": {
   "display_name": "Python 3",
   "language": "python",
   "name": "python3"
  },
  "language_info": {
   "codemirror_mode": {
    "name": "ipython",
    "version": 3
   },
   "file_extension": ".py",
   "mimetype": "text/x-python",
   "name": "python",
   "nbconvert_exporter": "python",
   "pygments_lexer": "ipython3",
   "version": "3.6.0"
  }
 },
 "nbformat": 4,
 "nbformat_minor": 2
}
