{
 "cells": [
  {
   "cell_type": "markdown",
   "metadata": {},
   "source": [
    "# Capstone Design: Sedimentation Tank Remainder"
   ]
  },
  {
   "cell_type": "markdown",
   "metadata": {
    "collapsed": true
   },
   "source": [
    "### Monroe's comments \n",
    "(include this in your next submission so I can verify that you've addressed all of these issues.)\n",
    "\n",
    "* Add the team name under the title.\n",
    "* Add the names of the students who are writing this report under the team name.\n",
    "* Add an introduction explaining the problem that you are solving. The goal is to design a sed tank that can be used in many communities. \n",
    "* Define the problem and explain how you will solve it.\n",
    "* Set this up for working in Python. Define the constants that you already know. You can look in the expert inputs file (see the mathcad source files linked below) to see if there are any other constraints you are missing for the sed tank.\n",
    "* Start with the python code from the sed tank design challenge.\n",
    "\n",
    "We don't have a minimum depth of the sed tank. Instead you add up the required depths for each of the components to get the total depth.\n",
    "\n",
    "The operator can't give the intended dimensions of the tank. Your design will provide those dimensions. \n",
    "Influent turbidity might be interesting, but we don't currently have a way to use that to improve the sed tank design. Remember that a water treatment plant must be able to treat water with a very wide range of contaminant concentrations.\n",
    "\n",
    "I've [zipped the Mathcad code](http://designserver.cee.cornell.edu/aguaclaracode/AguaClaraCodeCompact.zip) for your use. Try the SedTank.xmcd inside the ADT designs. I believe you can use mathcad in computers in Carpenter.\n",
    "\n",
    "For the next submission you will want to have the majority of the sed tank designed. This is a significant challenge. The AIDE team can help specify what level of detail they need to be able to draw the sed tank."
   ]
  },
  {
   "cell_type": "code",
   "execution_count": 1,
   "metadata": {
    "collapsed": true
   },
   "outputs": [],
   "source": [
    "from aide_design.play import*\n",
    "from aide_design import floc_model as floc\n",
    "from pytexit import py2tex"
   ]
  },
  {
   "cell_type": "markdown",
   "metadata": {},
   "source": [
    "Important constraints:\n",
    "- Physical size of sedimentation tank\n",
    "- Amount of materials and cost of construction\n",
    "- Timing of floc settlement in the tank\n",
    "- Geographic placement of sed tank\n",
    "- Upflow velocity in the floc blanket\n",
    "- Capture velocity\n",
    "- **Design flow rate**\n",
    "- Plate settler spacing and width\n",
    "- Minimum depth of the floc blanket\n",
    "- Head loss through orifices in the effluent manifold\n",
    "\n",
    "Operator/User Specifications:\n",
    "- Intended dimensions of tank\n",
    "- Inflow data (fluid temperature, turbidity, capture velocity)\n",
    "\n",
    "Major Design Alternatives:\n",
    "- Vertical flow sedimentation tank\n",
    "- Horizontal flow sed tank\n",
    "\n",
    "Project Strategy:\n",
    "We plan to focus on the process of a vertical flow sedimentation tank based on the lecture notes. According to the specifications given from the operator/user, we will utilize flow equations discussed in class to create functions that will be applied to the outputted fluid from the remained sed tank. "
   ]
  },
  {
   "cell_type": "code",
   "execution_count": 2,
   "metadata": {
    "collapsed": true
   },
   "outputs": [],
   "source": [
    "# We are experimenting with using head loss at the exit of the diffusers as\n",
    "# a reasonable design constraint for the design of the\n",
    "# inlet manifold/diffuser system. This head loss in the exit of the diffuser\n",
    "# will allow higher velocities (and pressure recovery) in the manifold pipe\n",
    "# and thus will enable use of smaller diameter manifold pipes.\n",
    "# -----\n",
    "# We've set a maximum head loss in the sedimentation tank inlet:\n",
    "headloss_sed_inlet_max = 1 * u.cm\n",
    "\n",
    "# The manifold and diffuser pipes used in the sedimentation tank have an SDR of 26.\n",
    "SDR=26\n",
    "\n",
    "# Pi_jet_plane is used to estimate the maximum energy dissipation rate in a plane jet. \n",
    "# A plane jet is uniform in one dimension. A plane jet can be formed by a long narrow slot.\n",
    "Pi_jet_plane = 0.225\n",
    "\n",
    "# Design temperature will be helpful to calculate viscosity\n",
    "T_design = 15*u.degC\n",
    "\n",
    "# Plant Flowrate:\n",
    "flow_plant = 60 * u.L/u.s\n",
    "\n",
    "# Upflow velocity at the top of the floc blanket:\n",
    "V_sed_up = 1 * u.mm/u.s\n",
    "\n",
    "# The corrugated plastic sheets used to make the plate settlers:\n",
    "W_sed = 42 * u.inch\n",
    "thickness_sed_plate = 2 * u.mm\n",
    "\n",
    "# The plate settlers are angled 60° from the horizontal:\n",
    "angle_sed_plate = 60 * u.deg\n",
    "\n",
    "# The plate setters are spaced 2.5cm apart (this is the perpendicular\n",
    "# distance between plates, not the horizontal distance between plates):\n",
    "s_sed_plate = 2.5 * u.cm\n",
    "\n",
    "# Plate settler capture velocity:\n",
    "V_sed_capture = 0.12 * u.mm/u.s\n",
    "\n",
    "# The minimum port flow (from the first port) divided by the maximum port \n",
    "# flow (from the last port) for flow division between sedimentation tanks \n",
    "# and for flow distribution from the inlet manifold should be at least:\n",
    "Pi_sed_manifold_flow = 0.8\n",
    "\n",
    "g = pc.gravity"
   ]
  },
  {
   "cell_type": "markdown",
   "metadata": {},
   "source": [
    "## Plate Settlers"
   ]
  },
  {
   "cell_type": "markdown",
   "metadata": {},
   "source": [
    "* Page in lecture notes on various velocities through the sed tank / plate settlers about V_up and V_vert in plate settlers\n",
    "    * as length of sed tank decreases, effect of lil wasted area at end of plate settlers row becomes larger bc up flow velocity in floc blanket is kept the same\n",
    "    * so have to make plate settlers longer as sed tank gets shorter\n",
    "    * Standardization: make all plate settlers 2 foot long, 2.5 cm spacing - if that meets capture velocity requirement, use as standard design\n",
    "* can calculate height of plates\n"
   ]
  },
  {
   "cell_type": "code",
   "execution_count": 5,
   "metadata": {},
   "outputs": [
    {
     "ename": "NameError",
     "evalue": "name 'math' is not defined",
     "output_type": "error",
     "traceback": [
      "\u001b[0;31m---------------------------------------------------------------------------\u001b[0m",
      "\u001b[0;31mNameError\u001b[0m                                 Traceback (most recent call last)",
      "\u001b[0;32m<ipython-input-5-74fbf87c842b>\u001b[0m in \u001b[0;36m<module>\u001b[0;34m()\u001b[0m\n\u001b[1;32m     12\u001b[0m     \u001b[0;32mreturn\u001b[0m \u001b[0mLen_sed_plate\u001b[0m\u001b[0;34m.\u001b[0m\u001b[0mto\u001b[0m\u001b[0;34m(\u001b[0m\u001b[0mu\u001b[0m\u001b[0;34m.\u001b[0m\u001b[0mcm\u001b[0m\u001b[0;34m)\u001b[0m\u001b[0;34m\u001b[0m\u001b[0m\n\u001b[1;32m     13\u001b[0m \u001b[0;34m\u001b[0m\u001b[0m\n\u001b[0;32m---> 14\u001b[0;31m \u001b[0mLen_sed_plate\u001b[0m \u001b[0;34m=\u001b[0m \u001b[0mLen_sed_plate\u001b[0m\u001b[0;34m(\u001b[0m\u001b[0mV_Upflow\u001b[0m\u001b[0;34m,\u001b[0m \u001b[0mV_Capture\u001b[0m\u001b[0;34m,\u001b[0m \u001b[0mSpacing_Settlers\u001b[0m\u001b[0;34m,\u001b[0m \u001b[0mAngle_sed_plate\u001b[0m\u001b[0;34m,\u001b[0m \u001b[0mThickness_sed_plate\u001b[0m\u001b[0;34m)\u001b[0m\u001b[0;34m\u001b[0m\u001b[0m\n\u001b[0m\u001b[1;32m     15\u001b[0m \u001b[0mprint\u001b[0m\u001b[0;34m(\u001b[0m\u001b[0;34m'The plate settlers need to be '\u001b[0m \u001b[0;34m+\u001b[0m \u001b[0mut\u001b[0m\u001b[0;34m.\u001b[0m\u001b[0msig\u001b[0m\u001b[0;34m(\u001b[0m\u001b[0mLen_sed_plate\u001b[0m\u001b[0;34m.\u001b[0m\u001b[0mto\u001b[0m\u001b[0;34m(\u001b[0m\u001b[0mu\u001b[0m\u001b[0;34m.\u001b[0m\u001b[0mcm\u001b[0m\u001b[0;34m)\u001b[0m\u001b[0;34m,\u001b[0m\u001b[0;36m4\u001b[0m\u001b[0;34m)\u001b[0m \u001b[0;34m+\u001b[0m\u001b[0;34m' long.'\u001b[0m\u001b[0;34m)\u001b[0m\u001b[0;34m\u001b[0m\u001b[0m\n",
      "\u001b[0;32m<ipython-input-5-74fbf87c842b>\u001b[0m in \u001b[0;36mLen_sed_plate\u001b[0;34m(V_Upflow, V_Capture, Spacing_Settlers, Angle_sed_plate, Thickness_sed_plate)\u001b[0m\n\u001b[1;32m      8\u001b[0m \u001b[0;32mdef\u001b[0m \u001b[0mLen_sed_plate\u001b[0m\u001b[0;34m(\u001b[0m\u001b[0mV_Upflow\u001b[0m\u001b[0;34m,\u001b[0m \u001b[0mV_Capture\u001b[0m\u001b[0;34m,\u001b[0m \u001b[0mSpacing_Settlers\u001b[0m\u001b[0;34m,\u001b[0m \u001b[0mAngle_sed_plate\u001b[0m\u001b[0;34m,\u001b[0m \u001b[0mThickness_sed_plate\u001b[0m\u001b[0;34m)\u001b[0m\u001b[0;34m:\u001b[0m\u001b[0;34m\u001b[0m\u001b[0m\n\u001b[1;32m      9\u001b[0m     \u001b[0mTop\u001b[0m \u001b[0;34m=\u001b[0m \u001b[0mSpacing_Settlers\u001b[0m \u001b[0;34m*\u001b[0m \u001b[0;34m(\u001b[0m\u001b[0mV_Upflow\u001b[0m \u001b[0;34m/\u001b[0m \u001b[0mV_Capture\u001b[0m \u001b[0;34m-\u001b[0m\u001b[0;36m1\u001b[0m\u001b[0;34m)\u001b[0m \u001b[0;34m+\u001b[0m \u001b[0mThickness_sed_plate\u001b[0m \u001b[0;34m*\u001b[0m \u001b[0;34m(\u001b[0m\u001b[0mV_Upflow\u001b[0m \u001b[0;34m/\u001b[0m \u001b[0mV_Capture\u001b[0m\u001b[0;34m)\u001b[0m\u001b[0;34m\u001b[0m\u001b[0m\n\u001b[0;32m---> 10\u001b[0;31m     \u001b[0mBottom\u001b[0m \u001b[0;34m=\u001b[0m \u001b[0mmath\u001b[0m\u001b[0;34m.\u001b[0m\u001b[0mcos\u001b[0m\u001b[0;34m(\u001b[0m\u001b[0mAngle_sed_plate\u001b[0m\u001b[0;34m)\u001b[0m \u001b[0;34m*\u001b[0m \u001b[0mmath\u001b[0m\u001b[0;34m.\u001b[0m\u001b[0msin\u001b[0m\u001b[0;34m(\u001b[0m\u001b[0mAngle_sed_plate\u001b[0m\u001b[0;34m)\u001b[0m\u001b[0;34m\u001b[0m\u001b[0m\n\u001b[0m\u001b[1;32m     11\u001b[0m     \u001b[0mLen_sed_plate\u001b[0m \u001b[0;34m=\u001b[0m \u001b[0mTop\u001b[0m \u001b[0;34m/\u001b[0m \u001b[0mBottom\u001b[0m\u001b[0;34m\u001b[0m\u001b[0m\n\u001b[1;32m     12\u001b[0m     \u001b[0;32mreturn\u001b[0m \u001b[0mLen_sed_plate\u001b[0m\u001b[0;34m.\u001b[0m\u001b[0mto\u001b[0m\u001b[0;34m(\u001b[0m\u001b[0mu\u001b[0m\u001b[0;34m.\u001b[0m\u001b[0mcm\u001b[0m\u001b[0;34m)\u001b[0m\u001b[0;34m\u001b[0m\u001b[0m\n",
      "\u001b[0;31mNameError\u001b[0m: name 'math' is not defined"
     ]
    }
   ],
   "source": [
    "V_Upflow = 3 * (u.mm/u.s)\n",
    "V_Capture = 0.2 * (u.mm/u.s)\n",
    "Spacing_Settlers = 2.5 *(u.cm)\n",
    "Angle_sed_plate = 60 * (u.deg)\n",
    "# We are allowed to neglect the effect of the thickness of the plate settlers\n",
    "Thickness_sed_plate = 0 * (u.mm)\n",
    "\n",
    "def Len_sed_plate(V_Upflow, V_Capture, Spacing_Settlers, Angle_sed_plate, Thickness_sed_plate):\n",
    "    Top = Spacing_Settlers * (V_Upflow / V_Capture -1) + Thickness_sed_plate * (V_Upflow / V_Capture)\n",
    "    Bottom = math.cos(Angle_sed_plate) * math.sin(Angle_sed_plate)\n",
    "    Len_sed_plate = Top / Bottom\n",
    "    return Len_sed_plate.to(u.cm)\n",
    "\n",
    "Len_sed_plate = Len_sed_plate(V_Upflow, V_Capture, Spacing_Settlers, Angle_sed_plate, Thickness_sed_plate)\n",
    "print('The plate settlers need to be ' + ut.sig(Len_sed_plate.to(u.cm),4) +' long.')"
   ]
  },
  {
   "cell_type": "markdown",
   "metadata": {},
   "source": [
    "## Floc Blankets"
   ]
  },
  {
   "cell_type": "markdown",
   "metadata": {},
   "source": [
    "We need a function for the length of floc blanket. Assume the height/depth of the floc blanket to be 25cm."
   ]
  },
  {
   "cell_type": "markdown",
   "metadata": {},
   "source": [
    "## Inlet Channel"
   ]
  },
  {
   "cell_type": "markdown",
   "metadata": {},
   "source": [
    "## Inlet Manifolds"
   ]
  },
  {
   "cell_type": "markdown",
   "metadata": {},
   "source": [
    "Assume manifold pipe is thin-walled with a SDR of 41.\n",
    "* ratio between smallest and largest velocity for diffusers\n",
    "* maximum head loss for jet coming out of diffuser, used \n",
    "* these ^ can find diameter for pipe to be and design for diffusers\n"
   ]
  },
  {
   "cell_type": "code",
   "execution_count": 4,
   "metadata": {
    "collapsed": true
   },
   "outputs": [],
   "source": [
    "Manifold_SDR = 41"
   ]
  },
  {
   "cell_type": "markdown",
   "metadata": {},
   "source": [
    "## Inlet Diffusers"
   ]
  },
  {
   "cell_type": "markdown",
   "metadata": {},
   "source": [
    "We need a function to calculate the length of diffuser."
   ]
  },
  {
   "cell_type": "code",
   "execution_count": null,
   "metadata": {
    "collapsed": true
   },
   "outputs": [],
   "source": [
    "# minor loss equation with K=1\n",
    "V_diffuser_max = (np.sqrt((2 * g * headloss_sed_inlet_max))).to(u.m / u.s)\n",
    "print('The maximum velocity of the sed tank diffusers is',V_diffuser_max)\n",
    "\n",
    "# mass conservation\n",
    "W_diffuser_inner_min = ((V_sed_up / V_diffuser_max) * W_sed).to(u.mm)\n",
    "print('The minimum width of the sed tank diffusers is',W_diffuser_inner_min)\n",
    "\n",
    "Diffuser_SDR=26\n",
    "\n",
    "# Assumed stretch of the PVC pipes as they are heated and molded:\n",
    "Pi_PVC_stretch = 1.2\n",
    "\n",
    "# Nominal diameter of the sed tank diffuser\n",
    "ND_sed_diffuser = 1 * u.inch\n",
    "\n",
    "\n",
    "#The cross-sectional area of the pipe wall is:\n",
    "area_PVC = (np.pi/4) * ((pipe.OD(ND_sed_diffuser)**2) \n",
    "                          - (pipe.ID_SDR(ND_sed_diffuser,SDR)**2)\n",
    "                          )\n",
    "\n",
    "#The thickness of the wall is reduced by the stretch factor:\n",
    "thickness_sed_diffuser_wall = ((pipe.OD(ND_sed_diffuser) \n",
    "                               - pipe.ID_SDR(ND_sed_diffuser,SDR)) \n",
    "                              / (2 * Pi_PVC_stretch)\n",
    "                              )\n",
    "\n",
    "# From geometry of the rectangular diffuser opening (assuming perfectly square corners) we have:\n",
    "B_diffuser = ((area_PVC / (2 * thickness_sed_diffuser_wall)) \n",
    "                            - W_diffuser\n",
    "                            ).to(u.cm)\n",
    "\n",
    "print(\"Sed diffuser outer length:\", B_diffuser)\n",
    "\n",
    "S_diffuser = B_diffuser - (2 * thickness_sed_diffuser_wall)\n",
    "print(\"Sed diffuser inner length:\", S_diffuser)"
   ]
  },
  {
   "cell_type": "markdown",
   "metadata": {},
   "source": [
    "## Jet Reverser"
   ]
  },
  {
   "cell_type": "markdown",
   "metadata": {},
   "source": [
    "There is no design needed for jet reverser. Take 3\" PVC pipe cut in half. Assume the pipe has a SDR of 26."
   ]
  },
  {
   "cell_type": "markdown",
   "metadata": {},
   "source": [
    "## Floc Hopper and floc weir"
   ]
  },
  {
   "cell_type": "markdown",
   "metadata": {},
   "source": [
    "* certain distance Height beneath plate settlers before you get to floc weir\n",
    "* idea: clear water in this Height (H_clearwater) ~10cm ish\n"
   ]
  },
  {
   "cell_type": "code",
   "execution_count": null,
   "metadata": {
    "collapsed": true
   },
   "outputs": [],
   "source": []
  }
 ],
 "metadata": {
  "kernelspec": {
   "display_name": "Python 3",
   "language": "python",
   "name": "python3"
  },
  "language_info": {
   "codemirror_mode": {
    "name": "ipython",
    "version": 3
   },
   "file_extension": ".py",
   "mimetype": "text/x-python",
   "name": "python",
   "nbconvert_exporter": "python",
   "pygments_lexer": "ipython3",
   "version": "3.6.1"
  }
 },
 "nbformat": 4,
 "nbformat_minor": 2
}
